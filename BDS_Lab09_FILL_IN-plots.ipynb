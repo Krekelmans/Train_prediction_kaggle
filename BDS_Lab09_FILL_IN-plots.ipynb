{
 "cells": [
  {
   "cell_type": "markdown",
   "metadata": {},
   "source": [
    "# Predicting the occupancies of Belgian trains\n",
    "\n",
    "In this lab, we will go over some of the typical steps in a data science pipeline:\n",
    "\n",
    "* Data processing & cleaning\n",
    "* Exploratory Data Analysis\n",
    "* Feature extraction/engineering\n",
    "* Model selection & hyper-parameter tuning\n",
    "* Data linking\n",
    "* ...\n",
    "\n",
    "We will make use of the following technologies and libraries:\n",
    "\n",
    "* Python3.5\n",
    "* Python libraries: pandas, numpy, sklearn, matplotlib, ...\n",
    "* Kaggle\n",
    "* **NO SPARK!!!** (next lab will deal with machine learning with Spark MLlib)"
   ]
  },
  {
   "cell_type": "code",
   "execution_count": 1,
   "metadata": {
    "collapsed": false
   },
   "outputs": [
    {
     "data": {
      "text/plain": [
       "'/Users/lorenzvanherwaarden/Train_prediction_kaggle'"
      ]
     },
     "execution_count": 1,
     "metadata": {},
     "output_type": "execute_result"
    }
   ],
   "source": [
    "import os\n",
    "os.getcwd() "
   ]
  },
  {
   "cell_type": "code",
   "execution_count": 2,
   "metadata": {
    "collapsed": false
   },
   "outputs": [
    {
     "name": "stdout",
     "output_type": "stream",
     "text": [
      "Populating the interactive namespace from numpy and matplotlib\n"
     ]
    }
   ],
   "source": [
    "%matplotlib inline\n",
    "%pylab inline\n",
    "import pandas as pd\n",
    "import numpy as np\n",
    "from collections import Counter, OrderedDict\n",
    "import json\n",
    "import matplotlib\n",
    "import matplotlib.pyplot as plt\n",
    "import re\n",
    "from scipy.misc import imread\n",
    "from sklearn.linear_model import LogisticRegression\n",
    "from sklearn.model_selection import StratifiedKFold\n",
    "from sklearn.metrics import confusion_matrix, accuracy_score, classification_report"
   ]
  },
  {
   "cell_type": "markdown",
   "metadata": {},
   "source": [
    "## 0. Create a kaggle account! https://www.kaggle.com/\n",
    "\n",
    "* The competition can be found here: https://inclass.kaggle.com/c/train-occupancy-prediction-v2/leaderboard\n",
    "* Create an account and form a **team** (shuffle II), use your names and BDS_ as a prefix in your team name\n",
    "* Note: you can only make 5 submissions per day\n",
    "* There are also student groups from Kortrijk (Master of Science in Industrial Engineering) participating. They get no help at all (you get this notebook) but this is their final lab + they have no project. **THEREFORE: Let's push them down the leaderboard!!! ;)**  \n",
    "\n",
    "* **Your deadline:** the end of the kaggle competition. \n",
    "\n",
    "* **Evaluation:** Your work will be evaluated for 50%, your result will also matter for another 50%. The top 5 student groups get bonus points for this part of the course!\n",
    "\n",
    "## 1. Loading and processing the data\n",
    "\n",
    "Trains can get really crowded sometimes, so wouldn't it be great to know in advance how busy your train will be, so you can take an earlier or later one? iRail, created just that. their application, SpitsGids, shows you the occupancy of every train in Belgium. Furthermore, you can indicate the occupancy yourself. Using the collected data, machine learning models can be trained to predict what the occupancy level of a train will be.\n",
    "\n",
    "The dataset which we will use during this labo is composed of two files:\n",
    "\n",
    "* **train.nldjson:** contains labeled training data (JSON records, separated by newlines)\n",
    "* **test.nldjson:** unlabeled data for which we will create a submission for a Kaggle competition at the end of this lab (again: JSON records, separated by newlines). Each of the records is uniquely identifiable through an id\n",
    "\n",
    "A json record has the following structure:\n",
    "\n",
    "```\n",
    "{\n",
    " \"querytype\": \"occupancy\",\n",
    " \"querytime\": \"2016-09-29T16:24:43+02:00\",\n",
    " \"post\": {\n",
    "     \"connection\": \"http://irail.be/connections/008811601/20160929/S85666\",\n",
    "     \"from\": \"http://irail.be/stations/NMBS/008811601\",\n",
    "     \"to\": \"http://irail.be/stations/NMBS/008811676\",\n",
    "     \"date\": \"20160929\",\n",
    "     \"vehicle\": \"http://irail.be/vehicle/S85666\",\n",
    "     \"occupancy\": \"http://api.irail.be/terms/medium\"\n",
    " },\n",
    " \"user_agent\": \"Railer/1610 CFNetwork/808.0.2 Darwin/16.0.0\"\n",
    "}\n",
    "```\n",
    "\n",
    "This is how the five first rows of a processed DataFrame **COULD** look like\n",
    "\n",
    "![_auto_0](attachment:_auto_0)"
   ]
  },
  {
   "cell_type": "markdown",
   "metadata": {},
   "source": [
    "** 1.1: ** *Load in both files and store the data in a pandas DataFrame, different methodologies can be applied in order to parse the JSON records ([pd.io.json.json_normalize](http://pandas.pydata.org/pandas-docs/stable/generated/pandas.io.json.json_normalize.html), [json](https://docs.python.org/3/library/json.html) library, ...)*"
   ]
  },
  {
   "cell_type": "markdown",
   "metadata": {},
   "source": [
    "## Loading the data\n",
    "\n",
    "Loading the json files and dumping them via pickle"
   ]
  },
  {
   "cell_type": "code",
   "execution_count": 3,
   "metadata": {
    "collapsed": true
   },
   "outputs": [],
   "source": [
    "from pandas.io.json import json_normalize\n",
    "import pickle"
   ]
  },
  {
   "cell_type": "code",
   "execution_count": 4,
   "metadata": {
    "collapsed": false
   },
   "outputs": [],
   "source": [
    "training_json = pd.DataFrame()\n",
    "with open('data/training_data.nldjson') as data_file:  \n",
    "        for line in data_file:\n",
    "            training_json = training_json.append(json_normalize(json.loads(line)))\n",
    "with open('data/test.nldjson') as data_file:  \n",
    "        for line in data_file:\n",
    "            out_test_json = json_normalize(json.loads(line))"
   ]
  },
  {
   "cell_type": "code",
   "execution_count": 5,
   "metadata": {
    "collapsed": true
   },
   "outputs": [],
   "source": [
    "out_test = out_test_json\n",
    "training = training_json"
   ]
  },
  {
   "cell_type": "code",
   "execution_count": 6,
   "metadata": {
    "collapsed": false,
    "scrolled": true
   },
   "outputs": [
    {
     "data": {
      "text/html": [
       "<div>\n",
       "<table border=\"1\" class=\"dataframe\">\n",
       "  <thead>\n",
       "    <tr style=\"text-align: right;\">\n",
       "      <th></th>\n",
       "      <th>id</th>\n",
       "      <th>post.connection</th>\n",
       "      <th>post.date</th>\n",
       "      <th>post.from</th>\n",
       "      <th>post.to</th>\n",
       "      <th>post.vehicle</th>\n",
       "      <th>querytime</th>\n",
       "      <th>querytype</th>\n",
       "      <th>user_agent</th>\n",
       "    </tr>\n",
       "  </thead>\n",
       "  <tbody>\n",
       "    <tr>\n",
       "      <th>0</th>\n",
       "      <td>0</td>\n",
       "      <td>http://irail.be/connections/8892007/20170312/I...</td>\n",
       "      <td>20170312</td>\n",
       "      <td>http://irail.be/stations/NMBS/008892007</td>\n",
       "      <td>http://irail.be/stations/NMBS/008891140</td>\n",
       "      <td>http://irail.be/vehicle/(null)</td>\n",
       "      <td>2017-03-12T10:32:59+01:00</td>\n",
       "      <td>occupancy</td>\n",
       "      <td>Railer/1620 CFNetwork/808.3 Darwin/16.3.0</td>\n",
       "    </tr>\n",
       "  </tbody>\n",
       "</table>\n",
       "</div>"
      ],
      "text/plain": [
       "   id                                    post.connection post.date  \\\n",
       "0   0  http://irail.be/connections/8892007/20170312/I...  20170312   \n",
       "\n",
       "                                 post.from  \\\n",
       "0  http://irail.be/stations/NMBS/008892007   \n",
       "\n",
       "                                   post.to                    post.vehicle  \\\n",
       "0  http://irail.be/stations/NMBS/008891140  http://irail.be/vehicle/(null)   \n",
       "\n",
       "                   querytime  querytype  \\\n",
       "0  2017-03-12T10:32:59+01:00  occupancy   \n",
       "\n",
       "                                  user_agent  \n",
       "0  Railer/1620 CFNetwork/808.3 Darwin/16.3.0  "
      ]
     },
     "execution_count": 6,
     "metadata": {},
     "output_type": "execute_result"
    }
   ],
   "source": [
    "out_test[0:1]"
   ]
  },
  {
   "cell_type": "markdown",
   "metadata": {},
   "source": [
    "## Processing the data\n",
    "\n",
    "Cleaning the variables, and adding station variables to our dataframe"
   ]
  },
  {
   "cell_type": "code",
   "execution_count": 7,
   "metadata": {
    "collapsed": false
   },
   "outputs": [
    {
     "name": "stderr",
     "output_type": "stream",
     "text": [
      "/Users/lorenzvanherwaarden/anaconda/lib/python3.6/site-packages/ipykernel/__main__.py:5: SettingWithCopyWarning: \n",
      "A value is trying to be set on a copy of a slice from a DataFrame.\n",
      "Try using .loc[row_indexer,col_indexer] = value instead\n",
      "\n",
      "See the caveats in the documentation: http://pandas.pydata.org/pandas-docs/stable/indexing.html#indexing-view-versus-copy\n",
      "/Users/lorenzvanherwaarden/anaconda/lib/python3.6/site-packages/ipykernel/__main__.py:7: SettingWithCopyWarning: \n",
      "A value is trying to be set on a copy of a slice from a DataFrame.\n",
      "Try using .loc[row_indexer,col_indexer] = value instead\n",
      "\n",
      "See the caveats in the documentation: http://pandas.pydata.org/pandas-docs/stable/indexing.html#indexing-view-versus-copy\n",
      "/Users/lorenzvanherwaarden/anaconda/lib/python3.6/site-packages/ipykernel/__main__.py:10: SettingWithCopyWarning: \n",
      "A value is trying to be set on a copy of a slice from a DataFrame.\n",
      "Try using .loc[row_indexer,col_indexer] = value instead\n",
      "\n",
      "See the caveats in the documentation: http://pandas.pydata.org/pandas-docs/stable/indexing.html#indexing-view-versus-copy\n"
     ]
    }
   ],
   "source": [
    "training['querytime'] = pd.to_datetime(training['querytime'])\n",
    "out_test['querytime'] = pd.to_datetime(out_test['querytime'])\n",
    "\n",
    "training = training.dropna()\n",
    "training['post.occupancy'] = training['post.occupancy'].apply(lambda x: x.split(\"http://api.irail.be/terms/\",1)[1])\n",
    "\n",
    "training['post.vehicle'] = training['post.vehicle'].apply(lambda x: x.split(\"http://irail.be/vehicle/\",1)[1])\n",
    "out_test['post.vehicle'] = out_test['post.vehicle'].apply(lambda x: x.split(\"http://irail.be/vehicle/\",1)[1])\n",
    "#create class column, eg IC058 -> IC\n",
    "training['post.class'] = training['post.vehicle'].apply(lambda x: \" \".join(re.findall(\"[a-zA-Z]+\", x)))\n",
    "out_test['post.class'] = out_test['post.vehicle'].apply(lambda x: \" \".join(re.findall(\"[a-zA-Z]+\", x)))\n",
    "#reset the index because you have duplicate indexes now because you appended DFs in a for loop\n",
    "training = training.reset_index()"
   ]
  },
  {
   "cell_type": "code",
   "execution_count": 8,
   "metadata": {
    "collapsed": false,
    "scrolled": false
   },
   "outputs": [
    {
     "data": {
      "text/html": [
       "<div>\n",
       "<table border=\"1\" class=\"dataframe\">\n",
       "  <thead>\n",
       "    <tr style=\"text-align: right;\">\n",
       "      <th></th>\n",
       "      <th>URI</th>\n",
       "      <th>name</th>\n",
       "      <th>alternative-fr</th>\n",
       "      <th>alternative-nl</th>\n",
       "      <th>alternative-de</th>\n",
       "      <th>alternative-en</th>\n",
       "      <th>country-code</th>\n",
       "      <th>longitude</th>\n",
       "      <th>latitude</th>\n",
       "      <th>avg_stop_times</th>\n",
       "      <th>from</th>\n",
       "      <th>destination</th>\n",
       "    </tr>\n",
       "  </thead>\n",
       "  <tbody>\n",
       "    <tr>\n",
       "      <th>0</th>\n",
       "      <td>http://irail.be/stations/NMBS/008895000</td>\n",
       "      <td>Aalst</td>\n",
       "      <td>Alost</td>\n",
       "      <td>NaN</td>\n",
       "      <td>NaN</td>\n",
       "      <td>NaN</td>\n",
       "      <td>be</td>\n",
       "      <td>4.039653</td>\n",
       "      <td>50.942813</td>\n",
       "      <td>88.263006</td>\n",
       "      <td>0</td>\n",
       "      <td>0</td>\n",
       "    </tr>\n",
       "    <tr>\n",
       "      <th>1</th>\n",
       "      <td>http://irail.be/stations/NMBS/008895125</td>\n",
       "      <td>Aalst-Kerrebroek</td>\n",
       "      <td>NaN</td>\n",
       "      <td>NaN</td>\n",
       "      <td>NaN</td>\n",
       "      <td>NaN</td>\n",
       "      <td>be</td>\n",
       "      <td>4.024407</td>\n",
       "      <td>50.948377</td>\n",
       "      <td>7.297688</td>\n",
       "      <td>1</td>\n",
       "      <td>1</td>\n",
       "    </tr>\n",
       "    <tr>\n",
       "      <th>2</th>\n",
       "      <td>http://irail.be/stations/NMBS/008891140</td>\n",
       "      <td>Aalter</td>\n",
       "      <td>NaN</td>\n",
       "      <td>NaN</td>\n",
       "      <td>NaN</td>\n",
       "      <td>NaN</td>\n",
       "      <td>be</td>\n",
       "      <td>3.447848</td>\n",
       "      <td>51.092295</td>\n",
       "      <td>78.488439</td>\n",
       "      <td>2</td>\n",
       "      <td>2</td>\n",
       "    </tr>\n",
       "    <tr>\n",
       "      <th>3</th>\n",
       "      <td>http://irail.be/stations/NMBS/008833209</td>\n",
       "      <td>Aarschot</td>\n",
       "      <td>NaN</td>\n",
       "      <td>NaN</td>\n",
       "      <td>NaN</td>\n",
       "      <td>NaN</td>\n",
       "      <td>be</td>\n",
       "      <td>4.824043</td>\n",
       "      <td>50.984406</td>\n",
       "      <td>123.800578</td>\n",
       "      <td>3</td>\n",
       "      <td>3</td>\n",
       "    </tr>\n",
       "  </tbody>\n",
       "</table>\n",
       "</div>"
      ],
      "text/plain": [
       "                                       URI              name alternative-fr  \\\n",
       "0  http://irail.be/stations/NMBS/008895000             Aalst          Alost   \n",
       "1  http://irail.be/stations/NMBS/008895125  Aalst-Kerrebroek            NaN   \n",
       "2  http://irail.be/stations/NMBS/008891140            Aalter            NaN   \n",
       "3  http://irail.be/stations/NMBS/008833209          Aarschot            NaN   \n",
       "\n",
       "  alternative-nl alternative-de alternative-en country-code  longitude  \\\n",
       "0            NaN            NaN            NaN           be   4.039653   \n",
       "1            NaN            NaN            NaN           be   4.024407   \n",
       "2            NaN            NaN            NaN           be   3.447848   \n",
       "3            NaN            NaN            NaN           be   4.824043   \n",
       "\n",
       "    latitude  avg_stop_times  from  destination  \n",
       "0  50.942813       88.263006     0            0  \n",
       "1  50.948377        7.297688     1            1  \n",
       "2  51.092295       78.488439     2            2  \n",
       "3  50.984406      123.800578     3            3  "
      ]
     },
     "execution_count": 8,
     "metadata": {},
     "output_type": "execute_result"
    }
   ],
   "source": [
    "stations_df = pd.read_csv('data/stations.csv')\n",
    "stations_df['from'] = stations_df.index\n",
    "stations_df['destination'] = stations_df['from']\n",
    "stations_df[0:4]\n",
    "#post.from en post.to are in the some format of URI"
   ]
  },
  {
   "cell_type": "code",
   "execution_count": 9,
   "metadata": {
    "collapsed": true
   },
   "outputs": [],
   "source": [
    "stations_df[\"zoekterm\"]=stations_df[\"name\"]+\" trein\""
   ]
  },
  {
   "cell_type": "code",
   "execution_count": 10,
   "metadata": {
    "collapsed": true
   },
   "outputs": [],
   "source": [
    "stations_df.loc[stations_df['zoekterm'].str.startswith(\"Zaventem\"), \"zoekterm\"] = \"Zaventem trein\"\n",
    "stations_df.loc[stations_df['zoekterm'].str.startswith(\"Charleroi\"), \"zoekterm\"] = \"Charleroi trein\"\n",
    "stations_df.loc[stations_df['zoekterm'].str.startswith(\"Brussel\"), \"zoekterm\"] = \"Brussel trein\"\n",
    "stations_df.loc[stations_df['zoekterm'].str.startswith(\"Gent\"), \"zoekterm\"] = \"Gent trein\"\n",
    "stations_df.loc[stations_df['zoekterm'].str.startswith(\"Liège\"), \"zoekterm\"] = \"Luik trein\"\n",
    "stations_df.loc[stations_df['zoekterm'].str.startswith(\"Antwerpen\"), \"zoekterm\"] = \"Antwerpen trein\" "
   ]
  },
  {
   "cell_type": "code",
   "execution_count": 11,
   "metadata": {
    "collapsed": false
   },
   "outputs": [
    {
     "data": {
      "text/html": [
       "<div>\n",
       "<table border=\"1\" class=\"dataframe\">\n",
       "  <thead>\n",
       "    <tr style=\"text-align: right;\">\n",
       "      <th></th>\n",
       "      <th>Unnamed: 0</th>\n",
       "      <th>station</th>\n",
       "      <th>week</th>\n",
       "      <th>zaterdag</th>\n",
       "      <th>zondag</th>\n",
       "      <th>lat</th>\n",
       "      <th>lng</th>\n",
       "      <th>station_link</th>\n",
       "    </tr>\n",
       "  </thead>\n",
       "  <tbody>\n",
       "    <tr>\n",
       "      <th>0</th>\n",
       "      <td>0</td>\n",
       "      <td>AALST</td>\n",
       "      <td>7733</td>\n",
       "      <td>1758</td>\n",
       "      <td>1589</td>\n",
       "      <td>50.942707</td>\n",
       "      <td>4.039143</td>\n",
       "      <td>Aalst</td>\n",
       "    </tr>\n",
       "    <tr>\n",
       "      <th>1</th>\n",
       "      <td>1</td>\n",
       "      <td>AALST-KERREBROEK</td>\n",
       "      <td>27</td>\n",
       "      <td>9</td>\n",
       "      <td>9</td>\n",
       "      <td>50.948307</td>\n",
       "      <td>4.024855</td>\n",
       "      <td>Aalst-Kerrebroek</td>\n",
       "    </tr>\n",
       "    <tr>\n",
       "      <th>2</th>\n",
       "      <td>2</td>\n",
       "      <td>AALTER</td>\n",
       "      <td>1957</td>\n",
       "      <td>526</td>\n",
       "      <td>536</td>\n",
       "      <td>51.092226</td>\n",
       "      <td>3.449550</td>\n",
       "      <td>Aalter</td>\n",
       "    </tr>\n",
       "    <tr>\n",
       "      <th>3</th>\n",
       "      <td>3</td>\n",
       "      <td>AARSCHOT</td>\n",
       "      <td>5660</td>\n",
       "      <td>1414</td>\n",
       "      <td>1104</td>\n",
       "      <td>50.984717</td>\n",
       "      <td>4.824250</td>\n",
       "      <td>Aarschot</td>\n",
       "    </tr>\n",
       "  </tbody>\n",
       "</table>\n",
       "</div>"
      ],
      "text/plain": [
       "   Unnamed: 0           station  week  zaterdag  zondag        lat       lng  \\\n",
       "0           0             AALST  7733      1758    1589  50.942707  4.039143   \n",
       "1           1  AALST-KERREBROEK    27         9       9  50.948307  4.024855   \n",
       "2           2            AALTER  1957       526     536  51.092226  3.449550   \n",
       "3           3          AARSCHOT  5660      1414    1104  50.984717  4.824250   \n",
       "\n",
       "       station_link  \n",
       "0             Aalst  \n",
       "1  Aalst-Kerrebroek  \n",
       "2            Aalter  \n",
       "3          Aarschot  "
      ]
     },
     "execution_count": 11,
     "metadata": {},
     "output_type": "execute_result"
    }
   ],
   "source": [
    "druktes_df = pd.read_csv('data/station_druktes.csv')\n",
    "druktes_df[0:4]"
   ]
  },
  {
   "cell_type": "code",
   "execution_count": 12,
   "metadata": {
    "collapsed": true
   },
   "outputs": [],
   "source": [
    "training = pd.merge(training,stations_df[[\"URI\",\"from\"]], left_on = 'post.from', right_on = 'URI')\n",
    "training = pd.merge(training,stations_df[[\"URI\",\"destination\"]], left_on = 'post.to', right_on = 'URI')\n",
    "training = training.drop(['URI_y','URI_x'],1)"
   ]
  },
  {
   "cell_type": "code",
   "execution_count": 13,
   "metadata": {
    "collapsed": true
   },
   "outputs": [],
   "source": [
    "out_test = pd.merge(out_test,stations_df[[\"URI\",\"from\"]], left_on = 'post.from', right_on = 'URI')\n",
    "out_test = pd.merge(out_test,stations_df[[\"URI\",\"destination\"]], left_on = 'post.to', right_on = 'URI')\n",
    "out_test = out_test.drop(['URI_y','URI_x'],1)"
   ]
  },
  {
   "cell_type": "markdown",
   "metadata": {},
   "source": [
    "** 1.2: ** *Clean the data! Make sure the station- and vehicle-identifiers are in the right format. A station identifier consists of 9 characters (prefix = '00') and a vehicle identifier consists of the concatentation of the vehicle type (IC/L/S/P/...) and the [line identifier](https://nl.wikipedia.org/wiki/Lijst_van_treincategorie%C3%ABn_in_Belgi%C3%AB). Try to fix as much of the records as possible, drop only the unfixable ones. How many records did you drop?*"
   ]
  },
  {
   "cell_type": "markdown",
   "metadata": {},
   "source": [
    "## 2. Exploratory Data Analysis (EDA)\n",
    "\n",
    "Let's create some visualisations of our data in order to gain some insights. Which features are useful, which ones aren't?\n",
    "\n",
    "We will create 3 visualisations:\n",
    "* **Pie chart** of the class distribution\n",
    "* **Stacked Bar Chart** depicting the distribution for one aggregated variable (such as the weekday or the vehicle type)\n",
    "* **Scattter plot** depicting the 'crowdiness' of the stations in Belgium\n",
    "\n",
    "For each of the visualisations, code to generate the plot has already been handed to you. You only need to prepare the data (i.e. create a new dataframe or select certain columns) such that it complies with the input specifications. **If you want to create your own plotting code or extend the given code, you are free to do so!**"
   ]
  },
  {
   "cell_type": "markdown",
   "metadata": {},
   "source": [
    "** 2.1: ** *Create a pie_chart with the distribution of the different classes. Have a look at our webscraping lab for plotting pie charts. TIP: the value_counts() does most of the work for you!\n",
    "\n"
   ]
  },
  {
   "cell_type": "code",
   "execution_count": 14,
   "metadata": {
    "collapsed": false
   },
   "outputs": [
    {
     "data": {
      "text/plain": [
       "<matplotlib.axes._subplots.AxesSubplot at 0x10d1d0550>"
      ]
     },
     "execution_count": 14,
     "metadata": {},
     "output_type": "execute_result"
    },
    {
     "data": {
      "image/png": "[encoded data removed]",
      "text/plain": [
       "<matplotlib.figure.Figure at 0x10d280160>"
      ]
     },
     "metadata": {},
     "output_type": "display_data"
    }
   ],
   "source": [
    "fig, ax = plt.subplots(1,1, figsize=(5,5))\n",
    "training['post.class'].value_counts().plot(kind='pie', ax=ax, autopct='%1.1f%%')\n",
    "#we have a lot of null/undefined, especially in our test set, we can't simply throw them away"
   ]
  },
  {
   "cell_type": "markdown",
   "metadata": {},
   "source": [
    "** 2.2: ** *Analyze the timestamps in the training and testset. First convert the timestamps to a pandas datetime object using pd.datetime. http://pandas.pydata.org/pandas-docs/stable/timeseries.html\n",
    "\n",
    "Have the column in this data format simplifies a lot of work, since it allows you to convert and extract time features more easily. For example: \n",
    "\n",
    "    - df['weekday] = df['time'].apply(lambda l: l.weekday()) \n",
    "\n",
    "would map every date to a day of the week in [0,6]. \n",
    "\n",
    "* A. What are the ranges of training and testset, is your challenges one of interpolating or extrapolating in the future? \n",
    "**TIP:** The describe() function can already be helpful!\n",
    "\n",
    "\n",
    "* B. Plot the number of records in both training and testset per day. Have a look here on how to work with the timegrouper functionality: http://stackoverflow.com/questions/15297053/how-can-i-divide-single-values-of-a-dataframe-by-monthly-averages\n",
    "\n",
    "\n",
    "* C. OPTIONAL: Have insight into the time dependence can get you a long way: Make additional visualizations to make you understand how time affects train occupancy."
   ]
  },
  {
   "cell_type": "code",
   "execution_count": 15,
   "metadata": {
    "collapsed": false
   },
   "outputs": [
    {
     "name": "stdout",
     "output_type": "stream",
     "text": [
      "timerange from training data: 2016-07-27 21:41:46 2017-02-28 20:30:49\n",
      "count                    4956\n",
      "unique                   4942\n",
      "top       2016-10-29 06:56:07\n",
      "freq                        2\n",
      "first     2016-07-27 21:41:46\n",
      "last      2017-02-28 20:30:49\n",
      "Name: querytime, dtype: object\n",
      "count                     493\n",
      "unique                    493\n",
      "top       2017-03-06 06:45:18\n",
      "freq                        1\n",
      "first     2017-03-01 05:46:07\n",
      "last      2017-04-05 05:58:51\n",
      "Name: querytime, dtype: object\n"
     ]
    },
    {
     "data": {
      "text/plain": [
       "[<matplotlib.lines.Line2D at 0x10d5e5d30>]"
      ]
     },
     "execution_count": 15,
     "metadata": {},
     "output_type": "execute_result"
    },
    {
     "data": {
      "image/png": "[encoded data removed]",
      "text/plain": [
       "<matplotlib.figure.Figure at 0x10cddfb38>"
      ]
     },
     "metadata": {},
     "output_type": "display_data"
    }
   ],
   "source": [
    "training['weekday'] = training['querytime'].apply(lambda l: l.weekday()) \n",
    "out_test['weekday'] = out_test['querytime'].apply(lambda l: l.weekday()) \n",
    "print(\"timerange from training data:\",training['querytime'].min(),training['querytime'].max())\n",
    "\n",
    "print(training['querytime'].describe())\n",
    "print(out_test['querytime'].describe())\n",
    "\n",
    "date_training = training.set_index('querytime')\n",
    "date_test = out_test.set_index('querytime')\n",
    "\n",
    "grouper = pd.TimeGrouper(\"1d\")\n",
    "date_training = date_training.groupby(grouper).size()\n",
    "date_test = date_test.groupby(grouper).size()\n",
    "\n",
    "# plot\n",
    "fig, ax = plt.subplots(1,1, figsize=(10,7))\n",
    "ax.plot(date_training)\n",
    "ax.plot(date_test)"
   ]
  },
  {
   "cell_type": "code",
   "execution_count": 357,
   "metadata": {
    "collapsed": false
   },
   "outputs": [
    {
     "data": {
      "text/plain": [
       "<matplotlib.axes._subplots.AxesSubplot at 0x124b2a9b0>"
      ]
     },
     "execution_count": 357,
     "metadata": {},
     "output_type": "execute_result"
    },
    {
     "data": {
      "image/png": "[encoded data removed]",
      "text/plain": [
       "<matplotlib.figure.Figure at 0x126eb4a20>"
      ]
     },
     "metadata": {},
     "output_type": "display_data"
    }
   ],
   "source": [
    "fig, ax = plt.subplots(1,1, figsize=(6,6))\n",
    "training['weekday'].value_counts().plot(kind='pie', ax=ax, autopct='%1.1f%%')"
   ]
  },
  {
   "cell_type": "code",
   "execution_count": 16,
   "metadata": {
    "collapsed": false
   },
   "outputs": [
    {
     "data": {
      "text/plain": [
       "low       2013\n",
       "high      1520\n",
       "medium    1423\n",
       "Name: post.occupancy, dtype: int64"
      ]
     },
     "execution_count": 16,
     "metadata": {},
     "output_type": "execute_result"
    }
   ],
   "source": [
    "training['post.occupancy'].value_counts()"
   ]
  },
  {
   "cell_type": "markdown",
   "metadata": {},
   "source": [
    "** 2.3: ** *Create a stacked_bar_chart with the distribution of the three classes over an aggregated variable (group the data by weekday, vehicle_type, ...). More info on creating stacked bar charts can be found here: http://pandas.pydata.org/pandas-docs/stable/visualization.html#bar-plots\n",
    "\n",
    "* The dataframe you need will require your grouping variables as the index, and 1 column occupancy category, for example:\n",
    "\n",
    "| Index | Occupancy_Low  | Occupancy_Medium | Occupancy_High | Sum_Occupancy |\n",
    "|-------|----------------|------------------|----------------|---------------|  \n",
    "| IC    | 15             | 30               | 10             | 55 |\n",
    "| S     | 20             | 10               | 30             | 60 |\n",
    "| L     | 12             | 9                | 14             | 35 |\n",
    "\n",
    "* If you want the values to be relative (%), add a sum column and use it to divide the occupancy columns\n"
   ]
  },
  {
   "cell_type": "code",
   "execution_count": 26,
   "metadata": {
    "collapsed": false
   },
   "outputs": [
    {
     "data": {
      "text/html": [
       "<div>\n",
       "<table border=\"1\" class=\"dataframe\">\n",
       "  <thead>\n",
       "    <tr style=\"text-align: right;\">\n",
       "      <th></th>\n",
       "      <th>index</th>\n",
       "      <th>post.connection</th>\n",
       "      <th>post.date</th>\n",
       "      <th>post.from</th>\n",
       "      <th>post.occupancy</th>\n",
       "      <th>post.to</th>\n",
       "      <th>post.vehicle</th>\n",
       "      <th>querytime</th>\n",
       "      <th>querytype</th>\n",
       "      <th>user_agent</th>\n",
       "      <th>post.class</th>\n",
       "      <th>from</th>\n",
       "      <th>destination</th>\n",
       "      <th>weekday</th>\n",
       "    </tr>\n",
       "  </thead>\n",
       "  <tbody>\n",
       "    <tr>\n",
       "      <th>0</th>\n",
       "      <td>0</td>\n",
       "      <td>http://irail.be/connections/8813003/20160728/I...</td>\n",
       "      <td>20160728</td>\n",
       "      <td>http://irail.be/stations/NMBS/008813003</td>\n",
       "      <td>medium</td>\n",
       "      <td>http://irail.be/stations/NMBS/008892007</td>\n",
       "      <td>IC1538</td>\n",
       "      <td>2016-07-28 14:44:52</td>\n",
       "      <td>occupancy</td>\n",
       "      <td>Mozilla/5.0 (iPhone; CPU iPhone OS 9_3_2 like ...</td>\n",
       "      <td>IC</td>\n",
       "      <td>89</td>\n",
       "      <td>202</td>\n",
       "      <td>3</td>\n",
       "    </tr>\n",
       "  </tbody>\n",
       "</table>\n",
       "</div>"
      ],
      "text/plain": [
       "   index                                    post.connection post.date  \\\n",
       "0      0  http://irail.be/connections/8813003/20160728/I...  20160728   \n",
       "\n",
       "                                 post.from post.occupancy  \\\n",
       "0  http://irail.be/stations/NMBS/008813003         medium   \n",
       "\n",
       "                                   post.to post.vehicle           querytime  \\\n",
       "0  http://irail.be/stations/NMBS/008892007       IC1538 2016-07-28 14:44:52   \n",
       "\n",
       "   querytype                                         user_agent post.class  \\\n",
       "0  occupancy  Mozilla/5.0 (iPhone; CPU iPhone OS 9_3_2 like ...         IC   \n",
       "\n",
       "   from  destination  weekday  \n",
       "0    89          202        3  "
      ]
     },
     "execution_count": 26,
     "metadata": {},
     "output_type": "execute_result"
    }
   ],
   "source": [
    "training[0:1]"
   ]
  },
  {
   "cell_type": "code",
   "execution_count": 63,
   "metadata": {
    "collapsed": false
   },
   "outputs": [],
   "source": [
    "occup = pd.crosstab(training['post.class'], training['post.occupancy'])\n",
    "weekday = pd.crosstab(training['post.class'], training['weekday'])"
   ]
  },
  {
   "cell_type": "code",
   "execution_count": 64,
   "metadata": {
    "collapsed": false
   },
   "outputs": [],
   "source": [
    "occup = occup.drop(['BUS', 'EUR', 'EXT', 'ICE', 'ICT', 'P', 'TGV', 'THA', 'TRN', 'ic', 'null', ''])\n",
    "occup = occup.apply(lambda r: r/r.sum(), axis=1)\n",
    "occup[0:4]\n",
    "weekday = weekday.drop(['BUS', 'EUR', 'EXT', 'ICE', 'ICT', 'P', 'TGV', 'THA', 'TRN', 'ic', 'null', ''])\n",
    "weekday = weekday.apply(lambda r: r/r.sum(), axis=1)"
   ]
  },
  {
   "cell_type": "code",
   "execution_count": 65,
   "metadata": {
    "collapsed": false
   },
   "outputs": [
    {
     "data": {
      "image/png": "[encoded data removed]",
      "text/plain": [
       "<matplotlib.figure.Figure at 0x10e80a048>"
      ]
     },
     "metadata": {},
     "output_type": "display_data"
    },
    {
     "data": {
      "image/png": "[encoded data removed]",
      "text/plain": [
       "<matplotlib.figure.Figure at 0x10e5cbcc0>"
      ]
     },
     "metadata": {},
     "output_type": "display_data"
    }
   ],
   "source": [
    "df_occup = pd.DataFrame(occup)\n",
    "df_occup.plot.bar(stacked=True);\n",
    "df_weekday = pd.DataFrame(weekday)\n",
    "df_weekday.plot.bar(stacked=True);"
   ]
  },
  {
   "cell_type": "markdown",
   "metadata": {},
   "source": [
    "** 2.4: ** * To have an idea about the hotspots in the railway network make a scatter plot that depicts the number of visitors per station. Aggregate on the destination station and use the GTFS dataset at iRail to find the geolocation of the stations (stops.txt): https://gtfs.irail.be/nmbs\n",
    "\n",
    "\n",
    "\n",
    "\n",
    "\n"
   ]
  },
  {
   "cell_type": "code",
   "execution_count": 17,
   "metadata": {
    "collapsed": false
   },
   "outputs": [
    {
     "data": {
      "text/plain": [
       "<matplotlib.collections.PathCollection at 0x10d343e10>"
      ]
     },
     "execution_count": 17,
     "metadata": {},
     "output_type": "execute_result"
    },
    {
     "data": {
      "image/png": "[encoded data removed]",
      "text/plain": [
       "<matplotlib.figure.Figure at 0x10d8cd978>"
      ]
     },
     "metadata": {},
     "output_type": "display_data"
    }
   ],
   "source": [
    "stops = stations_df[['URI','longitude','latitude']] \n",
    "dest_count = training['post.to'].value_counts()\n",
    "dest_count_df = pd.DataFrame({'id':dest_count.index, 'count':dest_count.values})\n",
    "dest_loc = pd.merge(dest_count_df, stops, left_on = 'id', right_on = 'URI')\n",
    "dest_loc = dest_loc[['id', 'count', 'latitude','longitude']]\n",
    "\n",
    "fig, ax = plt.subplots(figsize=(12,10))\n",
    "ax.scatter(dest_loc.longitude, dest_loc.latitude, s=dest_loc['count'] )"
   ]
  },
  {
   "cell_type": "markdown",
   "metadata": {},
   "source": [
    "## 3. Predictive modeling: creating a baseline\n",
    "\n",
    "Now that we have processed, cleaned and explored our data it is time to create a predictive model that predicts the occupancies of future Belgian trains. We will start with applying Logistic Regression on features extracted from our initial dataset. Some code has already been given to get you started.\n",
    "\n",
    "### Feature extraction\n",
    "\n",
    "Some possible features include (bold ones are already implemented for you):\n",
    "\n",
    "* The day of the week\n",
    "* **The number of seconds since midnight of the querytime**\n",
    "* The train vehicle type (IC/P/L/...)\n",
    "* The line number\n",
    "* [The line category](https://nl.wikipedia.org/wiki/Lijst_van_treincategorie%C3%ABn_in_Belgi%C3%AB)\n",
    "* Information about the from- and to-station (their identifier, their coordinates, the number of visitors, ...)\n",
    "* **The month**\n",
    "* A binary variable indicating whether a morning (6-10AM) or evening jam (3-7PM) is ongoing\n",
    "* ...\n",
    "\n",
    "In order to do reveal relations between these features you can try and plot them with:\n",
    "\n",
    "* <a href=\"https://datascience.stackexchange.com/questions/10459/calculation-and-visualization-of-correlation-matrix-with-pandas\"> Correlation plot </a>\n",
    "* <a href=\"http://pandas.pydata.org/pandas-docs/stable/visualization.html#visualization-scatter-matrix\"> Scatter matrix </a>\n",
    "\n",
    "These relations can be important since some models do not perform very will when features are highly correlated\n",
    "\n",
    "\n",
    "### Feature normalization\n",
    "\n",
    "* Most models require the features to have a similar range, preferables [0,1]. A minmax scaler is usually sufficient: x -> (x - xmin) / (xmax - xmin)\n",
    "\n",
    "* Scikit will be used quite extensively from now on, have a look here for preprocessing functionality: http://scikit-learn.org/stable/modules/classes.html#module-sklearn.preprocessing\n",
    "\n",
    "### Dealing with categorical variables\n",
    "\n",
    "All machine learning techniques, except for tree-based methods, assume that variables are ordinal (you can define an order). For some variables, such as the day of the week or the train vehicle type, this is not true. Therefore, a pre-processing step is required that transforms these categorical variables. A few examples of such transformations are:\n",
    "\n",
    "* One-hot-encoding (supported by pandas: [get_dummies](http://pandas.pydata.org/pandas-docs/stable/generated/pandas.get_dummies.html) )\n",
    "* Binary encoding: map each variable to a number, binary encode these numbers and use each bit as a feature (advantage of this technique is that it introduces a lot less new variables in contrast to one-hot-encoding)\n",
    "* Hash encoding\n",
    "* ...\n",
    "\n",
    "\n",
    "** 3.1: ** *Extract more features than the two given ones. Make sure you extract at least one categorical variable, and transform it! What gains (in terms of current accuracy (0.417339475755)) do you achieve with new features in comparison to the given code?*"
   ]
  },
  {
   "cell_type": "code",
   "execution_count": 358,
   "metadata": {
    "collapsed": false
   },
   "outputs": [],
   "source": [
    "def get_seconds_since_midnight(x):\n",
    "    midnight = x.replace(hour=0, minute=0, second=0, microsecond=0)\n",
    "    return (x - midnight).seconds\n",
    "\n",
    "def get_line_number(x):\n",
    "    pattern = re.compile(\"^[A-Z]+([0-9]+)$\")\n",
    "    if pattern.match(x):\n",
    "        return int(pattern.match(x).group(1))\n",
    "    else:\n",
    "        return x\n",
    "    \n",
    "training['seconds_since_midnight'] = training['querytime'].apply(get_seconds_since_midnight)\n",
    "training['month'] = training['querytime'].apply(lambda x: x.month)\n",
    "training['occupancy'] = training['post.occupancy'].map({'low': 0, 'medium': 1, 'high': 2})"
   ]
  },
  {
   "cell_type": "code",
   "execution_count": 359,
   "metadata": {
    "collapsed": true
   },
   "outputs": [],
   "source": [
    "out_test['seconds_since_midnight'] = out_test['querytime'].apply(get_seconds_since_midnight)\n",
    "out_test['month'] = out_test['querytime'].apply(lambda x: x.month)"
   ]
  },
  {
   "cell_type": "code",
   "execution_count": 22,
   "metadata": {
    "collapsed": false
   },
   "outputs": [
    {
     "data": {
      "image/png": "[encoded data removed]",
      "text/plain": [
       "<matplotlib.figure.Figure at 0x11f94dc18>"
      ]
     },
     "metadata": {},
     "output_type": "display_data"
    },
    {
     "data": {
      "image/png": "[encoded data removed]",
      "text/plain": [
       "<matplotlib.figure.Figure at 0x11fc35630>"
      ]
     },
     "metadata": {},
     "output_type": "display_data"
    }
   ],
   "source": [
    "fig, ax = plt.subplots(figsize=(5, 5))\n",
    "corr_frame = training[['seconds_since_midnight', 'month', 'occupancy']].corr()\n",
    "cax = ax.matshow(abs(corr_frame))\n",
    "fig.colorbar(cax)\n",
    "tickpos = np.array(range(0,len(corr_frame.columns)))\n",
    "plt.xticks(tickpos,corr_frame.columns, rotation='vertical')\n",
    "plt.yticks(tickpos,corr_frame.columns, rotation='horizontal')\n",
    "plt.grid(None)\n",
    "\n",
    "pd.tools.plotting.scatter_matrix(training[['seconds_since_midnight', 'month', 'occupancy']],  \n",
    "                                 alpha=0.2, diagonal='kde', figsize=(10,10))\n",
    "plt.grid(None)"
   ]
  },
  {
   "cell_type": "markdown",
   "metadata": {},
   "source": [
    "* We train our model on a 'training set' and evaluate it on the testset. Functionality for making this split automatically can be found <a href=\"http://scikit-learn.org/stable/modules/classes.html#module-sklearn.model_selection\"> here </a>\n",
    "\n",
    "* Our first model is a linear logistic regression model, more information on the API <a href=\"http://scikit-learn.org/stable/modules/classes.html#module-sklearn.linear_model\"> here </a>\n",
    "\n",
    "* The confusion matrix is part of the <a href=\"http://scikit-learn.org/stable/modules/classes.html#module-sklearn.metrics\"> metrics functionality </a>\n"
   ]
  },
  {
   "cell_type": "code",
   "execution_count": 23,
   "metadata": {
    "collapsed": false
   },
   "outputs": [
    {
     "name": "stdout",
     "output_type": "stream",
     "text": [
      "             precision    recall  f1-score   support\n",
      "\n",
      "          0       0.44      0.85      0.58       403\n",
      "          1       0.00      0.00      0.00       285\n",
      "          2       0.36      0.26      0.30       304\n",
      "\n",
      "avg / total       0.29      0.42      0.33       992\n",
      "\n",
      "             precision    recall  f1-score   support\n",
      "\n",
      "          0       0.43      0.90      0.59       403\n",
      "          1       0.20      0.00      0.01       285\n",
      "          2       0.39      0.20      0.27       304\n",
      "\n",
      "avg / total       0.35      0.43      0.32       992\n",
      "\n",
      "             precision    recall  f1-score   support\n",
      "\n",
      "          0       0.42      0.87      0.56       403\n",
      "          1       0.00      0.00      0.00       285\n",
      "          2       0.35      0.17      0.23       304\n",
      "\n",
      "avg / total       0.28      0.41      0.30       992\n",
      "\n",
      "             precision    recall  f1-score   support\n",
      "\n",
      "          0       0.43      0.85      0.57       402\n",
      "          1       0.00      0.00      0.00       284\n",
      "          2       0.34      0.22      0.26       304\n",
      "\n",
      "avg / total       0.28      0.41      0.31       990\n",
      "\n",
      "             precision    recall  f1-score   support\n",
      "\n",
      "          0       0.44      0.91      0.59       402\n",
      "          1       0.00      0.00      0.00       284\n",
      "          2       0.34      0.18      0.23       304\n",
      "\n",
      "avg / total       0.28      0.42      0.31       990\n",
      "\n",
      "Confusion matrix:\n",
      " [[  3.52000000e+02   4.00000000e-01   5.02000000e+01]\n",
      " [  2.21600000e+02   2.00000000e-01   6.28000000e+01]\n",
      " [  2.41200000e+02   4.00000000e-01   6.24000000e+01]]\n",
      "Avg accuracy 0.41828038449 +- 0.007469555697\n",
      "Predict all lows 0.40617433414043586\n"
     ]
    },
    {
     "name": "stderr",
     "output_type": "stream",
     "text": [
      "/Users/davidsmolders/Downloads/anaconda/lib/python3.5/site-packages/sklearn/metrics/classification.py:1113: UndefinedMetricWarning: Precision and F-score are ill-defined and being set to 0.0 in labels with no predicted samples.\n",
      "  'precision', 'predicted', average, warn_for)\n"
     ]
    }
   ],
   "source": [
    "skf = StratifiedKFold(n_splits=5, random_state=1337)\n",
    "X = training[['seconds_since_midnight', 'month']]\n",
    "y = training['occupancy']\n",
    "cms = []\n",
    "accs = []\n",
    "for train_index, test_index in skf.split(X, y):\n",
    "    X_train, X_test = X.iloc[train_index, :], X.iloc[test_index, :]\n",
    "    y_train, y_test = y[train_index], y[test_index]\n",
    "    \n",
    "    log_reg = LogisticRegression()\n",
    "    log_reg.fit(X_train, y_train)\n",
    "    \n",
    "    predictions = log_reg.predict(X_test)\n",
    "    cm = confusion_matrix(y_test, predictions)\n",
    "    cms.append(cm)\n",
    "    accs.append(accuracy_score(y_test, predictions))\n",
    "    print(classification_report(y_test, predictions))\n",
    "    #accs.append(sum([float(cm[i][i]) for i in range(len(cm))])/np.sum(cm))\n",
    "    \n",
    "print('Confusion matrix:\\n', np.mean(cms, axis=0))\n",
    "print('Avg accuracy', np.mean(accs), '+-', np.std(accs))\n",
    "print('Predict all lows', float(len(y[y == 0]))/float(len(y)))"
   ]
  },
  {
   "cell_type": "markdown",
   "metadata": {},
   "source": [
    "Since we have a lot of 'Null' (+-1/3th) values for our 'class' feature, and we don't want to throw that away, we can try to predict these labels based on the other features, we get +75% accuracy so that seems sufficient. But we can't forgot to do the same thing for the test set!"
   ]
  },
  {
   "cell_type": "code",
   "execution_count": 24,
   "metadata": {
    "collapsed": false
   },
   "outputs": [
    {
     "ename": "NameError",
     "evalue": "name 'training_holidays' is not defined",
     "output_type": "error",
     "traceback": [
      "\u001b[0;31m---------------------------------------------------------------------------\u001b[0m",
      "\u001b[0;31mNameError\u001b[0m                                 Traceback (most recent call last)",
      "\u001b[0;32m<ipython-input-24-15674af2912a>\u001b[0m in \u001b[0;36m<module>\u001b[0;34m()\u001b[0m\n\u001b[0;32m----> 1\u001b[0;31m \u001b[0mtraining_class\u001b[0m \u001b[0;34m=\u001b[0m \u001b[0mtraining_holidays\u001b[0m\u001b[0;34m[\u001b[0m\u001b[0mtraining_holidays\u001b[0m\u001b[0;34m.\u001b[0m\u001b[0mclass_enc\u001b[0m \u001b[0;34m!=\u001b[0m \u001b[0;36m0\u001b[0m\u001b[0;34m]\u001b[0m\u001b[0;34m\u001b[0m\u001b[0m\n\u001b[0m\u001b[1;32m      2\u001b[0m \u001b[0mtraining_class\u001b[0m \u001b[0;34m=\u001b[0m \u001b[0mtraining_class\u001b[0m\u001b[0;34m[\u001b[0m\u001b[0mtraining_class\u001b[0m\u001b[0;34m.\u001b[0m\u001b[0mclass_enc\u001b[0m \u001b[0;34m!=\u001b[0m \u001b[0;36m14\u001b[0m\u001b[0;34m]\u001b[0m\u001b[0;34m\u001b[0m\u001b[0m\n\u001b[1;32m      3\u001b[0m \u001b[0mtest_class\u001b[0m \u001b[0;34m=\u001b[0m \u001b[0mtraining_holidays\u001b[0m\u001b[0;34m[\u001b[0m\u001b[0;34m(\u001b[0m\u001b[0mtraining_holidays\u001b[0m\u001b[0;34m.\u001b[0m\u001b[0mclass_enc\u001b[0m \u001b[0;34m==\u001b[0m \u001b[0;36m0\u001b[0m\u001b[0;34m)\u001b[0m\u001b[0;34m|\u001b[0m\u001b[0;34m(\u001b[0m\u001b[0mtraining_holidays\u001b[0m\u001b[0;34m.\u001b[0m\u001b[0mclass_enc\u001b[0m \u001b[0;34m==\u001b[0m \u001b[0;36m14\u001b[0m\u001b[0;34m)\u001b[0m\u001b[0;34m]\u001b[0m\u001b[0;34m\u001b[0m\u001b[0m\n",
      "\u001b[0;31mNameError\u001b[0m: name 'training_holidays' is not defined"
     ]
    }
   ],
   "source": [
    "training_class = training_holidays[training_holidays.class_enc != 0]\n",
    "training_class = training_class[training_class.class_enc != 14]\n",
    "test_class = training_holidays[(training_holidays.class_enc == 0)|(training_holidays.class_enc == 14)]"
   ]
  },
  {
   "cell_type": "code",
   "execution_count": null,
   "metadata": {
    "collapsed": false
   },
   "outputs": [],
   "source": [
    "training_class[\"class_pred\"]=training_class[\"class_enc\"]\n",
    "training_holidays_enc = pd.concat([training_class,test_class])"
   ]
  },
  {
   "cell_type": "code",
   "execution_count": null,
   "metadata": {
    "collapsed": true
   },
   "outputs": [],
   "source": [
    "X_train = training_class[['seconds_since_midnight','weekday', 'month','id','id_2']]\n",
    "X_test = test_class[['seconds_since_midnight','weekday', 'month','id','id_2']]\n",
    "y_train = training_class['class_enc']"
   ]
  },
  {
   "cell_type": "code",
   "execution_count": 330,
   "metadata": {
    "collapsed": false,
    "scrolled": true
   },
   "outputs": [
    {
     "data": {
      "text/plain": [
       "0    0.408063\n",
       "2    0.304818\n",
       "1    0.287119\n",
       "Name: occupancy, dtype: float64"
      ]
     },
     "execution_count": 330,
     "metadata": {},
     "output_type": "execute_result"
    }
   ],
   "source": [
    "train.occupancy.value_counts()/train.shape[0]"
   ]
  },
  {
   "cell_type": "code",
   "execution_count": null,
   "metadata": {
    "collapsed": false
   },
   "outputs": [],
   "source": [
    "test.occupancy.value_counts()/test.shape[0]"
   ]
  },
  {
   "cell_type": "code",
   "execution_count": null,
   "metadata": {
    "collapsed": false,
    "scrolled": false
   },
   "outputs": [],
   "source": [
    "out_test_holidays_druktes.occupancy.value_counts()/out_test_holidays_druktes.shape[0]"
   ]
  },
  {
   "cell_type": "code",
   "execution_count": 20,
   "metadata": {
    "collapsed": true
   },
   "outputs": [],
   "source": [
    "from sklearn.linear_model import SGDClassifier\n",
    "from sklearn.ensemble import RandomForestClassifier, AdaBoostClassifier\n",
    "from sklearn.metrics import f1_score\n",
    "from sklearn.linear_model import LogisticRegression\n",
    "from sklearn.ensemble import VotingClassifier\n",
    "from sklearn.model_selection import RandomizedSearchCV, GridSearchCV "
   ]
  },
  {
   "cell_type": "code",
   "execution_count": 21,
   "metadata": {
    "collapsed": false
   },
   "outputs": [],
   "source": [
    "from sklearn.cross_validation import train_test_split\n",
    "train, test = train_test_split(training_holidays_druktes, test_size=0.2, random_state=42)"
   ]
  },
  {
   "cell_type": "code",
   "execution_count": 22,
   "metadata": {
    "collapsed": false
   },
   "outputs": [],
   "source": [
    "X_train = train[['seconds_since_midnight','drukte_from','drukte_to','school','name_enc','day__0','day__1','day__2','day__3','day__4','day__5','day__6','from_lat','from_lng','des_lat','des_lng','real_trend','class__0','class__1','class__2','class__3','class__4','class__5','class__6','class__7','class__8', 'temperature', 'humidity', 'windspeed', 'weather_type', 'visibility']]\n",
    "X_test = test[['seconds_since_midnight','drukte_from','drukte_to','school','name_enc','day__0','day__1','day__2','day__3','day__4','day__5','day__6','from_lat','from_lng','des_lat','des_lng','real_trend','class__0','class__1','class__2','class__3','class__4','class__5','class__6','class__7','class__8', 'temperature', 'humidity', 'windspeed', 'weather_type', 'visibility']]\n",
    "y_train = train['occupancy']\n",
    "y_test = test['occupancy']\n",
    "#month uit de set halen als we ongeziene willen predicten"
   ]
  },
  {
   "cell_type": "code",
   "execution_count": 23,
   "metadata": {
    "collapsed": false
   },
   "outputs": [
    {
     "data": {
      "text/plain": [
       "XGBClassifier(base_score=0.5, colsample_bylevel=1, colsample_bytree=0.5,\n",
       "       gamma=0.0, learning_rate=0.01, max_delta_step=1, max_depth=3,\n",
       "       min_child_weight=6, missing=None, n_estimators=5000, nthread=-1,\n",
       "       objective='multi:softprob', reg_alpha=0, reg_lambda=1,\n",
       "       scale_pos_weight=1, seed=0, silent=True, subsample=0.6)"
      ]
     },
     "execution_count": 23,
     "metadata": {},
     "output_type": "execute_result"
    }
   ],
   "source": [
    "from xgboost import XGBClassifier\n",
    "\n",
    "xgb = XGBClassifier(n_estimators=5000, max_depth=3, min_child_weight=6, learning_rate=0.01,\n",
    "                        colsample_bytree=0.5, subsample=0.6, gamma=0., nthread=-1,\n",
    "                        max_delta_step=1, objective='multi:softmax')\n",
    "xgb.fit(X_train, y_train, sample_weight=[1]*len(y_train))"
   ]
  },
  {
   "cell_type": "code",
   "execution_count": 24,
   "metadata": {
    "collapsed": false
   },
   "outputs": [
    {
     "name": "stdout",
     "output_type": "stream",
     "text": [
      "0.758230958231\n",
      "0.51768172888\n"
     ]
    }
   ],
   "source": [
    "print(xgb.score(X_train,y_train))\n",
    "print(xgb.score(X_test, y_test))"
   ]
  },
  {
   "cell_type": "code",
   "execution_count": 25,
   "metadata": {
    "collapsed": false
   },
   "outputs": [
    {
     "data": {
      "text/plain": [
       "GridSearchCV(cv=3, error_score='raise',\n",
       "       estimator=AdaBoostClassifier(algorithm='SAMME.R', base_estimator=None,\n",
       "          learning_rate=1.0, n_estimators=50, random_state=None),\n",
       "       fit_params={}, iid=True, n_jobs=1,\n",
       "       param_grid={'n_estimators': [10, 30, 100, 300, 1000], 'learning_rate': [0.1, 0.3, 1.0, 3.0]},\n",
       "       pre_dispatch='2*n_jobs', refit=True, return_train_score=True,\n",
       "       scoring='accuracy', verbose=0)"
      ]
     },
     "execution_count": 25,
     "metadata": {},
     "output_type": "execute_result"
    }
   ],
   "source": [
    "ac = AdaBoostClassifier()\n",
    "ada_param_grid = {'n_estimators': [10, 30, 100, 300, 1000],\n",
    "                  'learning_rate': [0.1, 0.3, 1.0, 3.0]}\n",
    "ac_grid = GridSearchCV(ac,ada_param_grid,cv=3,\n",
    "                       scoring='accuracy')\n",
    "ac_grid.fit(X_train, y_train)"
   ]
  },
  {
   "cell_type": "code",
   "execution_count": 26,
   "metadata": {
    "collapsed": false
   },
   "outputs": [],
   "source": [
    "ac = ac_grid.best_estimator_\n",
    "#ac.fit(X_train, y_train)\n",
    "#print(ac_grid.score(X_train,y_train))\n",
    "#print(ac_grid.score(X_test, y_test))"
   ]
  },
  {
   "cell_type": "code",
   "execution_count": 33,
   "metadata": {
    "collapsed": false
   },
   "outputs": [
    {
     "data": {
      "text/plain": [
       "GridSearchCV(cv=3, error_score='raise',\n",
       "       estimator=RandomForestClassifier(bootstrap=True, class_weight=None, criterion='gini',\n",
       "            max_depth=None, max_features='auto', max_leaf_nodes=None,\n",
       "            min_impurity_split=1e-07, min_samples_leaf=1,\n",
       "            min_samples_split=2, min_weight_fraction_leaf=0.0,\n",
       "            n_estimators=10, n_jobs=1, oob_score=False, random_state=None,\n",
       "            verbose=0, warm_start=False),\n",
       "       fit_params={}, iid=True, n_jobs=1,\n",
       "       param_grid={'n_estimators': [20], 'max_depth': [7, None], 'max_features': range(4, 6), 'min_samples_split': range(2, 7), 'min_samples_leaf': range(1, 7), 'bootstrap': [True, False], 'criterion': ['gini', 'entropy']},\n",
       "       pre_dispatch='2*n_jobs', refit=True, return_train_score=True,\n",
       "       scoring='accuracy', verbose=0)"
      ]
     },
     "execution_count": 33,
     "metadata": {},
     "output_type": "execute_result"
    }
   ],
   "source": [
    "rf = RandomForestClassifier()\n",
    "param_dist = {\"n_estimators\": [20],\n",
    "                \"max_depth\": [7, None],\n",
    "              \"max_features\": range(4, 6),\n",
    "              \"min_samples_split\": range(2, 7),\n",
    "              \"min_samples_leaf\": range(1, 7),\n",
    "              \"bootstrap\": [True, False],\n",
    "              \"criterion\": [\"gini\", \"entropy\"]}\n",
    "rand = GridSearchCV(rf,param_dist,cv=3,\n",
    "                       scoring='accuracy')\n",
    "rand.fit(X_train, y_train)"
   ]
  },
  {
   "cell_type": "code",
   "execution_count": 34,
   "metadata": {
    "collapsed": false
   },
   "outputs": [
    {
     "name": "stdout",
     "output_type": "stream",
     "text": [
      "RandomForestClassifier(bootstrap=False, class_weight=None,\n",
      "            criterion='entropy', max_depth=None, max_features=5,\n",
      "            max_leaf_nodes=None, min_impurity_split=1e-07,\n",
      "            min_samples_leaf=2, min_samples_split=3,\n",
      "            min_weight_fraction_leaf=0.0, n_estimators=20, n_jobs=1,\n",
      "            oob_score=False, random_state=None, verbose=0,\n",
      "            warm_start=False)\n"
     ]
    }
   ],
   "source": [
    "rf = rand.best_estimator_\n",
    "print(rand.best_estimator_)\n",
    "# rf.fit(X_train, y_train)\n",
    "# print(rf.score(X_train,y_train))\n",
    "# print(rf.score(X_test, y_test))"
   ]
  },
  {
   "cell_type": "code",
   "execution_count": 73,
   "metadata": {
    "collapsed": false
   },
   "outputs": [
    {
     "name": "stdout",
     "output_type": "stream",
     "text": [
      "0.999606918239\n"
     ]
    }
   ],
   "source": [
    "from sklearn.tree import DecisionTreeClassifier\n",
    "dtc = DecisionTreeClassifier(random_state=0)\n",
    "dtc.fit(X_train, y_train)\n",
    "print(dtc.score(X_train,y_train))\n",
    "print(dtc.score(X_test, y_test))"
   ]
  },
  {
   "cell_type": "code",
   "execution_count": 74,
   "metadata": {
    "collapsed": true
   },
   "outputs": [],
   "source": [
    "rf2 = rand.best_estimator_\n",
    "rf3 = rand.best_estimator_\n",
    "rf4 = rand.best_estimator_"
   ]
  },
  {
   "cell_type": "code",
   "execution_count": 31,
   "metadata": {
    "collapsed": false
   },
   "outputs": [],
   "source": [
    "# voting_clf = VotingClassifier(\n",
    "# estimators=[('ac', ac), ('rf', rf), ('dtc', dtc),('rf2', rf2), ('rf3', rf3), ('rf4', rf4), ('xgb', xgb)],\n",
    "# voting='hard'\n",
    "# )\n",
    "voting_clf = VotingClassifier(\n",
    "estimators=[('ac', ac), ('rf', rf), ('xgb', xgb)],\n",
    "voting='hard'\n",
    ")"
   ]
  },
  {
   "cell_type": "code",
   "execution_count": 35,
   "metadata": {
    "collapsed": false,
    "scrolled": false
   },
   "outputs": [
    {
     "name": "stdout",
     "output_type": "stream",
     "text": [
      "AdaBoostClassifier 0.454813359528\n",
      "RandomForestClassifier 0.561886051081\n",
      "XGBClassifier 0.51768172888\n",
      "VotingClassifier 0.481335952849\n"
     ]
    }
   ],
   "source": [
    "from sklearn.metrics import accuracy_score\n",
    "for clf in (ac, rf, xgb, voting_clf):\n",
    "    clf.fit(X_train, y_train)\n",
    "    y_pred = clf.predict(X_test)\n",
    "    print(clf.__class__.__name__, accuracy_score(y_test, y_pred))"
   ]
  },
  {
   "cell_type": "code",
   "execution_count": 98,
   "metadata": {
    "collapsed": false
   },
   "outputs": [
    {
     "name": "stdout",
     "output_type": "stream",
     "text": [
      "VotingClassifier 0.567779960707\n"
     ]
    }
   ],
   "source": [
    "ac.fit(X_train, y_train)\n",
    "voting_clf.fit(X_train, y_train)\n",
    "y_pred = clf.predict(X_test)\n",
    "print(clf.__class__.__name__, accuracy_score(y_test, y_pred))"
   ]
  },
  {
   "cell_type": "code",
   "execution_count": 36,
   "metadata": {
    "collapsed": false
   },
   "outputs": [
    {
     "data": {
      "text/html": [
       "<div>\n",
       "<table border=\"1\" class=\"dataframe\">\n",
       "  <thead>\n",
       "    <tr style=\"text-align: right;\">\n",
       "      <th></th>\n",
       "      <th>0</th>\n",
       "      <th>1</th>\n",
       "      <th>2</th>\n",
       "      <th>3</th>\n",
       "      <th>4</th>\n",
       "      <th>5</th>\n",
       "      <th>6</th>\n",
       "      <th>7</th>\n",
       "      <th>8</th>\n",
       "      <th>9</th>\n",
       "      <th>...</th>\n",
       "      <th>21</th>\n",
       "      <th>22</th>\n",
       "      <th>23</th>\n",
       "      <th>24</th>\n",
       "      <th>25</th>\n",
       "      <th>26</th>\n",
       "      <th>27</th>\n",
       "      <th>28</th>\n",
       "      <th>29</th>\n",
       "      <th>30</th>\n",
       "    </tr>\n",
       "  </thead>\n",
       "  <tbody>\n",
       "    <tr>\n",
       "      <th>0</th>\n",
       "      <td>seconds_since_midnight</td>\n",
       "      <td>drukte_from</td>\n",
       "      <td>drukte_to</td>\n",
       "      <td>school</td>\n",
       "      <td>name_enc</td>\n",
       "      <td>day__0</td>\n",
       "      <td>day__1</td>\n",
       "      <td>day__2</td>\n",
       "      <td>day__3</td>\n",
       "      <td>day__4</td>\n",
       "      <td>...</td>\n",
       "      <td>class__4</td>\n",
       "      <td>class__5</td>\n",
       "      <td>class__6</td>\n",
       "      <td>class__7</td>\n",
       "      <td>class__8</td>\n",
       "      <td>temperature</td>\n",
       "      <td>humidity</td>\n",
       "      <td>windspeed</td>\n",
       "      <td>weather_type</td>\n",
       "      <td>visibility</td>\n",
       "    </tr>\n",
       "    <tr>\n",
       "      <th>1</th>\n",
       "      <td>0.133238</td>\n",
       "      <td>0.0710153</td>\n",
       "      <td>0.0693213</td>\n",
       "      <td>0.00579499</td>\n",
       "      <td>0.0142401</td>\n",
       "      <td>0.0116442</td>\n",
       "      <td>0.0093737</td>\n",
       "      <td>0.0102773</td>\n",
       "      <td>0.0114194</td>\n",
       "      <td>0.0110213</td>\n",
       "      <td>...</td>\n",
       "      <td>0.0142713</td>\n",
       "      <td>4.64001e-05</td>\n",
       "      <td>0</td>\n",
       "      <td>0.005351</td>\n",
       "      <td>0.00765269</td>\n",
       "      <td>0.0740943</td>\n",
       "      <td>0.0787982</td>\n",
       "      <td>0.0790538</td>\n",
       "      <td>0.0470202</td>\n",
       "      <td>0.0311867</td>\n",
       "    </tr>\n",
       "  </tbody>\n",
       "</table>\n",
       "<p>2 rows × 31 columns</p>\n",
       "</div>"
      ],
      "text/plain": [
       "                       0            1          2           3          4   \\\n",
       "0  seconds_since_midnight  drukte_from  drukte_to      school   name_enc   \n",
       "1                0.133238    0.0710153  0.0693213  0.00579499  0.0142401   \n",
       "\n",
       "          5          6          7          8          9      ...      \\\n",
       "0     day__0     day__1     day__2     day__3     day__4     ...       \n",
       "1  0.0116442  0.0093737  0.0102773  0.0114194  0.0110213     ...       \n",
       "\n",
       "          21           22        23        24          25           26  \\\n",
       "0   class__4     class__5  class__6  class__7    class__8  temperature   \n",
       "1  0.0142713  4.64001e-05         0  0.005351  0.00765269    0.0740943   \n",
       "\n",
       "          27         28            29          30  \n",
       "0   humidity  windspeed  weather_type  visibility  \n",
       "1  0.0787982  0.0790538     0.0470202   0.0311867  \n",
       "\n",
       "[2 rows x 31 columns]"
      ]
     },
     "execution_count": 36,
     "metadata": {},
     "output_type": "execute_result"
    }
   ],
   "source": [
    "pd.DataFrame([X_train.columns, rf.feature_importances_])"
   ]
  },
  {
   "cell_type": "code",
   "execution_count": null,
   "metadata": {
    "collapsed": true
   },
   "outputs": [],
   "source": [
    "y_predict_test = voting_clf.predict(out_test_holidays_druktes[['seconds_since_midnight','drukte_from','drukte_to','school','name_enc','day__0','day__1','day__2','day__3','day__4','day__5','day__6','from_lat','from_lng','des_lat','des_lng','real_trend','class__0','class__1','class__2','class__3','class__4','class__5','class__6','class__7','class__8','temperature', 'humidity', 'windspeed', 'weather_type', 'visibility']])"
   ]
  },
  {
   "cell_type": "code",
   "execution_count": 37,
   "metadata": {
    "collapsed": true
   },
   "outputs": [],
   "source": [
    "y_predict_test = rf.predict(out_test_holidays_druktes[['seconds_since_midnight','drukte_from','drukte_to','school','name_enc','day__0','day__1','day__2','day__3','day__4','day__5','day__6','from_lat','from_lng','des_lat','des_lng','real_trend','class__0','class__1','class__2','class__3','class__4','class__5','class__6','class__7','class__8','temperature', 'humidity', 'windspeed', 'weather_type', 'visibility']])"
   ]
  },
  {
   "cell_type": "code",
   "execution_count": 38,
   "metadata": {
    "collapsed": false
   },
   "outputs": [],
   "source": [
    "out_test_holidays_druktes[\"occupancy\"] = y_predict_test"
   ]
  },
  {
   "cell_type": "code",
   "execution_count": 39,
   "metadata": {
    "collapsed": false,
    "scrolled": false
   },
   "outputs": [
    {
     "data": {
      "text/plain": [
       "0    0.647059\n",
       "1    0.192698\n",
       "2    0.160243\n",
       "Name: occupancy, dtype: float64"
      ]
     },
     "execution_count": 39,
     "metadata": {},
     "output_type": "execute_result"
    }
   ],
   "source": [
    "out_test_holidays_druktes.occupancy.value_counts()/out_test_holidays_druktes.shape[0]"
   ]
  },
  {
   "cell_type": "code",
   "execution_count": 40,
   "metadata": {
    "collapsed": false
   },
   "outputs": [
    {
     "data": {
      "text/plain": [
       "0    0.410565\n",
       "2    0.302948\n",
       "1    0.286486\n",
       "Name: occupancy, dtype: float64"
      ]
     },
     "execution_count": 40,
     "metadata": {},
     "output_type": "execute_result"
    }
   ],
   "source": [
    "train.occupancy.value_counts()/train.shape[0]"
   ]
  },
  {
   "cell_type": "code",
   "execution_count": 41,
   "metadata": {
    "collapsed": false
   },
   "outputs": [
    {
     "data": {
      "text/html": [
       "<div>\n",
       "<table border=\"1\" class=\"dataframe\">\n",
       "  <thead>\n",
       "    <tr style=\"text-align: right;\">\n",
       "      <th></th>\n",
       "      <th>seconds_since_midnight</th>\n",
       "      <th>drukte_from</th>\n",
       "      <th>drukte_to</th>\n",
       "      <th>name_enc</th>\n",
       "      <th>class_enc</th>\n",
       "      <th>day__0</th>\n",
       "      <th>day__1</th>\n",
       "      <th>day__2</th>\n",
       "      <th>day__3</th>\n",
       "      <th>day__4</th>\n",
       "      <th>day__5</th>\n",
       "      <th>day__6</th>\n",
       "      <th>trend</th>\n",
       "      <th>occupancy</th>\n",
       "    </tr>\n",
       "  </thead>\n",
       "  <tbody>\n",
       "    <tr>\n",
       "      <th>0</th>\n",
       "      <td>34379</td>\n",
       "      <td>22046.0</td>\n",
       "      <td>536.0</td>\n",
       "      <td>0</td>\n",
       "      <td>8</td>\n",
       "      <td>0</td>\n",
       "      <td>0</td>\n",
       "      <td>0</td>\n",
       "      <td>0</td>\n",
       "      <td>0</td>\n",
       "      <td>0</td>\n",
       "      <td>1</td>\n",
       "      <td>0</td>\n",
       "      <td>1</td>\n",
       "    </tr>\n",
       "    <tr>\n",
       "      <th>1</th>\n",
       "      <td>55488</td>\n",
       "      <td>11163.4</td>\n",
       "      <td>391.4</td>\n",
       "      <td>0</td>\n",
       "      <td>1</td>\n",
       "      <td>0</td>\n",
       "      <td>0</td>\n",
       "      <td>1</td>\n",
       "      <td>0</td>\n",
       "      <td>0</td>\n",
       "      <td>0</td>\n",
       "      <td>0</td>\n",
       "      <td>0</td>\n",
       "      <td>1</td>\n",
       "    </tr>\n",
       "    <tr>\n",
       "      <th>2</th>\n",
       "      <td>48917</td>\n",
       "      <td>11163.4</td>\n",
       "      <td>391.4</td>\n",
       "      <td>0</td>\n",
       "      <td>8</td>\n",
       "      <td>1</td>\n",
       "      <td>0</td>\n",
       "      <td>0</td>\n",
       "      <td>0</td>\n",
       "      <td>0</td>\n",
       "      <td>0</td>\n",
       "      <td>0</td>\n",
       "      <td>0</td>\n",
       "      <td>0</td>\n",
       "    </tr>\n",
       "    <tr>\n",
       "      <th>3</th>\n",
       "      <td>78560</td>\n",
       "      <td>22046.0</td>\n",
       "      <td>12782.0</td>\n",
       "      <td>0</td>\n",
       "      <td>8</td>\n",
       "      <td>0</td>\n",
       "      <td>0</td>\n",
       "      <td>0</td>\n",
       "      <td>0</td>\n",
       "      <td>0</td>\n",
       "      <td>0</td>\n",
       "      <td>1</td>\n",
       "      <td>28</td>\n",
       "      <td>0</td>\n",
       "    </tr>\n",
       "    <tr>\n",
       "      <th>4</th>\n",
       "      <td>48985</td>\n",
       "      <td>21184.0</td>\n",
       "      <td>11409.0</td>\n",
       "      <td>0</td>\n",
       "      <td>1</td>\n",
       "      <td>0</td>\n",
       "      <td>0</td>\n",
       "      <td>0</td>\n",
       "      <td>0</td>\n",
       "      <td>0</td>\n",
       "      <td>1</td>\n",
       "      <td>0</td>\n",
       "      <td>27</td>\n",
       "      <td>2</td>\n",
       "    </tr>\n",
       "    <tr>\n",
       "      <th>5</th>\n",
       "      <td>70303</td>\n",
       "      <td>11163.4</td>\n",
       "      <td>3619.0</td>\n",
       "      <td>0</td>\n",
       "      <td>3</td>\n",
       "      <td>0</td>\n",
       "      <td>0</td>\n",
       "      <td>1</td>\n",
       "      <td>0</td>\n",
       "      <td>0</td>\n",
       "      <td>0</td>\n",
       "      <td>0</td>\n",
       "      <td>28</td>\n",
       "      <td>0</td>\n",
       "    </tr>\n",
       "    <tr>\n",
       "      <th>6</th>\n",
       "      <td>36627</td>\n",
       "      <td>11163.4</td>\n",
       "      <td>3619.0</td>\n",
       "      <td>0</td>\n",
       "      <td>1</td>\n",
       "      <td>0</td>\n",
       "      <td>0</td>\n",
       "      <td>1</td>\n",
       "      <td>0</td>\n",
       "      <td>0</td>\n",
       "      <td>0</td>\n",
       "      <td>0</td>\n",
       "      <td>14</td>\n",
       "      <td>0</td>\n",
       "    </tr>\n",
       "    <tr>\n",
       "      <th>7</th>\n",
       "      <td>70687</td>\n",
       "      <td>11163.4</td>\n",
       "      <td>3619.0</td>\n",
       "      <td>0</td>\n",
       "      <td>1</td>\n",
       "      <td>0</td>\n",
       "      <td>0</td>\n",
       "      <td>1</td>\n",
       "      <td>0</td>\n",
       "      <td>0</td>\n",
       "      <td>0</td>\n",
       "      <td>0</td>\n",
       "      <td>14</td>\n",
       "      <td>0</td>\n",
       "    </tr>\n",
       "    <tr>\n",
       "      <th>8</th>\n",
       "      <td>49638</td>\n",
       "      <td>12509.0</td>\n",
       "      <td>3619.0</td>\n",
       "      <td>0</td>\n",
       "      <td>1</td>\n",
       "      <td>0</td>\n",
       "      <td>1</td>\n",
       "      <td>0</td>\n",
       "      <td>0</td>\n",
       "      <td>0</td>\n",
       "      <td>0</td>\n",
       "      <td>0</td>\n",
       "      <td>14</td>\n",
       "      <td>1</td>\n",
       "    </tr>\n",
       "    <tr>\n",
       "      <th>9</th>\n",
       "      <td>68145</td>\n",
       "      <td>1466.0</td>\n",
       "      <td>3619.0</td>\n",
       "      <td>0</td>\n",
       "      <td>8</td>\n",
       "      <td>0</td>\n",
       "      <td>0</td>\n",
       "      <td>0</td>\n",
       "      <td>0</td>\n",
       "      <td>1</td>\n",
       "      <td>0</td>\n",
       "      <td>0</td>\n",
       "      <td>25</td>\n",
       "      <td>0</td>\n",
       "    </tr>\n",
       "    <tr>\n",
       "      <th>10</th>\n",
       "      <td>82587</td>\n",
       "      <td>148.0</td>\n",
       "      <td>3619.0</td>\n",
       "      <td>0</td>\n",
       "      <td>1</td>\n",
       "      <td>1</td>\n",
       "      <td>0</td>\n",
       "      <td>0</td>\n",
       "      <td>0</td>\n",
       "      <td>0</td>\n",
       "      <td>0</td>\n",
       "      <td>0</td>\n",
       "      <td>38</td>\n",
       "      <td>0</td>\n",
       "    </tr>\n",
       "    <tr>\n",
       "      <th>11</th>\n",
       "      <td>30527</td>\n",
       "      <td>11163.4</td>\n",
       "      <td>12509.0</td>\n",
       "      <td>0</td>\n",
       "      <td>1</td>\n",
       "      <td>1</td>\n",
       "      <td>0</td>\n",
       "      <td>0</td>\n",
       "      <td>0</td>\n",
       "      <td>0</td>\n",
       "      <td>0</td>\n",
       "      <td>0</td>\n",
       "      <td>36</td>\n",
       "      <td>1</td>\n",
       "    </tr>\n",
       "    <tr>\n",
       "      <th>12</th>\n",
       "      <td>26121</td>\n",
       "      <td>11163.4</td>\n",
       "      <td>12509.0</td>\n",
       "      <td>0</td>\n",
       "      <td>8</td>\n",
       "      <td>0</td>\n",
       "      <td>1</td>\n",
       "      <td>0</td>\n",
       "      <td>0</td>\n",
       "      <td>0</td>\n",
       "      <td>0</td>\n",
       "      <td>0</td>\n",
       "      <td>50</td>\n",
       "      <td>1</td>\n",
       "    </tr>\n",
       "    <tr>\n",
       "      <th>13</th>\n",
       "      <td>22662</td>\n",
       "      <td>11163.4</td>\n",
       "      <td>12509.0</td>\n",
       "      <td>0</td>\n",
       "      <td>3</td>\n",
       "      <td>0</td>\n",
       "      <td>0</td>\n",
       "      <td>0</td>\n",
       "      <td>0</td>\n",
       "      <td>1</td>\n",
       "      <td>0</td>\n",
       "      <td>0</td>\n",
       "      <td>61</td>\n",
       "      <td>1</td>\n",
       "    </tr>\n",
       "    <tr>\n",
       "      <th>14</th>\n",
       "      <td>56122</td>\n",
       "      <td>21184.0</td>\n",
       "      <td>19347.0</td>\n",
       "      <td>0</td>\n",
       "      <td>8</td>\n",
       "      <td>0</td>\n",
       "      <td>0</td>\n",
       "      <td>0</td>\n",
       "      <td>0</td>\n",
       "      <td>0</td>\n",
       "      <td>1</td>\n",
       "      <td>0</td>\n",
       "      <td>50</td>\n",
       "      <td>1</td>\n",
       "    </tr>\n",
       "    <tr>\n",
       "      <th>15</th>\n",
       "      <td>21353</td>\n",
       "      <td>11163.4</td>\n",
       "      <td>12509.0</td>\n",
       "      <td>0</td>\n",
       "      <td>8</td>\n",
       "      <td>0</td>\n",
       "      <td>0</td>\n",
       "      <td>0</td>\n",
       "      <td>1</td>\n",
       "      <td>0</td>\n",
       "      <td>0</td>\n",
       "      <td>0</td>\n",
       "      <td>67</td>\n",
       "      <td>2</td>\n",
       "    </tr>\n",
       "    <tr>\n",
       "      <th>16</th>\n",
       "      <td>51729</td>\n",
       "      <td>11163.4</td>\n",
       "      <td>12509.0</td>\n",
       "      <td>0</td>\n",
       "      <td>8</td>\n",
       "      <td>0</td>\n",
       "      <td>0</td>\n",
       "      <td>0</td>\n",
       "      <td>0</td>\n",
       "      <td>1</td>\n",
       "      <td>0</td>\n",
       "      <td>0</td>\n",
       "      <td>43</td>\n",
       "      <td>1</td>\n",
       "    </tr>\n",
       "    <tr>\n",
       "      <th>17</th>\n",
       "      <td>24123</td>\n",
       "      <td>11163.4</td>\n",
       "      <td>12509.0</td>\n",
       "      <td>0</td>\n",
       "      <td>1</td>\n",
       "      <td>0</td>\n",
       "      <td>0</td>\n",
       "      <td>0</td>\n",
       "      <td>1</td>\n",
       "      <td>0</td>\n",
       "      <td>0</td>\n",
       "      <td>0</td>\n",
       "      <td>65</td>\n",
       "      <td>2</td>\n",
       "    </tr>\n",
       "    <tr>\n",
       "      <th>18</th>\n",
       "      <td>14300</td>\n",
       "      <td>11163.4</td>\n",
       "      <td>12509.0</td>\n",
       "      <td>0</td>\n",
       "      <td>1</td>\n",
       "      <td>1</td>\n",
       "      <td>0</td>\n",
       "      <td>0</td>\n",
       "      <td>0</td>\n",
       "      <td>0</td>\n",
       "      <td>0</td>\n",
       "      <td>0</td>\n",
       "      <td>62</td>\n",
       "      <td>1</td>\n",
       "    </tr>\n",
       "    <tr>\n",
       "      <th>19</th>\n",
       "      <td>25041</td>\n",
       "      <td>11163.4</td>\n",
       "      <td>12509.0</td>\n",
       "      <td>0</td>\n",
       "      <td>8</td>\n",
       "      <td>1</td>\n",
       "      <td>0</td>\n",
       "      <td>0</td>\n",
       "      <td>0</td>\n",
       "      <td>0</td>\n",
       "      <td>0</td>\n",
       "      <td>0</td>\n",
       "      <td>62</td>\n",
       "      <td>1</td>\n",
       "    </tr>\n",
       "    <tr>\n",
       "      <th>20</th>\n",
       "      <td>71981</td>\n",
       "      <td>3729.4</td>\n",
       "      <td>12509.0</td>\n",
       "      <td>0</td>\n",
       "      <td>1</td>\n",
       "      <td>1</td>\n",
       "      <td>0</td>\n",
       "      <td>0</td>\n",
       "      <td>0</td>\n",
       "      <td>0</td>\n",
       "      <td>0</td>\n",
       "      <td>0</td>\n",
       "      <td>48</td>\n",
       "      <td>1</td>\n",
       "    </tr>\n",
       "    <tr>\n",
       "      <th>21</th>\n",
       "      <td>80314</td>\n",
       "      <td>5549.0</td>\n",
       "      <td>19347.0</td>\n",
       "      <td>0</td>\n",
       "      <td>1</td>\n",
       "      <td>0</td>\n",
       "      <td>0</td>\n",
       "      <td>0</td>\n",
       "      <td>0</td>\n",
       "      <td>0</td>\n",
       "      <td>1</td>\n",
       "      <td>0</td>\n",
       "      <td>36</td>\n",
       "      <td>1</td>\n",
       "    </tr>\n",
       "    <tr>\n",
       "      <th>22</th>\n",
       "      <td>63775</td>\n",
       "      <td>529.6</td>\n",
       "      <td>12509.0</td>\n",
       "      <td>0</td>\n",
       "      <td>1</td>\n",
       "      <td>0</td>\n",
       "      <td>0</td>\n",
       "      <td>1</td>\n",
       "      <td>0</td>\n",
       "      <td>0</td>\n",
       "      <td>0</td>\n",
       "      <td>0</td>\n",
       "      <td>43</td>\n",
       "      <td>0</td>\n",
       "    </tr>\n",
       "    <tr>\n",
       "      <th>24</th>\n",
       "      <td>15833</td>\n",
       "      <td>406.6</td>\n",
       "      <td>12509.0</td>\n",
       "      <td>0</td>\n",
       "      <td>1</td>\n",
       "      <td>1</td>\n",
       "      <td>0</td>\n",
       "      <td>0</td>\n",
       "      <td>0</td>\n",
       "      <td>0</td>\n",
       "      <td>0</td>\n",
       "      <td>0</td>\n",
       "      <td>36</td>\n",
       "      <td>1</td>\n",
       "    </tr>\n",
       "    <tr>\n",
       "      <th>25</th>\n",
       "      <td>17440</td>\n",
       "      <td>651.0</td>\n",
       "      <td>12509.0</td>\n",
       "      <td>0</td>\n",
       "      <td>1</td>\n",
       "      <td>1</td>\n",
       "      <td>0</td>\n",
       "      <td>0</td>\n",
       "      <td>0</td>\n",
       "      <td>0</td>\n",
       "      <td>0</td>\n",
       "      <td>0</td>\n",
       "      <td>36</td>\n",
       "      <td>1</td>\n",
       "    </tr>\n",
       "    <tr>\n",
       "      <th>26</th>\n",
       "      <td>25398</td>\n",
       "      <td>651.0</td>\n",
       "      <td>12509.0</td>\n",
       "      <td>0</td>\n",
       "      <td>4</td>\n",
       "      <td>0</td>\n",
       "      <td>0</td>\n",
       "      <td>1</td>\n",
       "      <td>0</td>\n",
       "      <td>0</td>\n",
       "      <td>0</td>\n",
       "      <td>0</td>\n",
       "      <td>43</td>\n",
       "      <td>0</td>\n",
       "    </tr>\n",
       "    <tr>\n",
       "      <th>28</th>\n",
       "      <td>24697</td>\n",
       "      <td>651.0</td>\n",
       "      <td>12509.0</td>\n",
       "      <td>0</td>\n",
       "      <td>1</td>\n",
       "      <td>0</td>\n",
       "      <td>0</td>\n",
       "      <td>0</td>\n",
       "      <td>1</td>\n",
       "      <td>0</td>\n",
       "      <td>0</td>\n",
       "      <td>0</td>\n",
       "      <td>67</td>\n",
       "      <td>2</td>\n",
       "    </tr>\n",
       "    <tr>\n",
       "      <th>29</th>\n",
       "      <td>56960</td>\n",
       "      <td>12219.8</td>\n",
       "      <td>12509.0</td>\n",
       "      <td>0</td>\n",
       "      <td>8</td>\n",
       "      <td>0</td>\n",
       "      <td>0</td>\n",
       "      <td>1</td>\n",
       "      <td>0</td>\n",
       "      <td>0</td>\n",
       "      <td>0</td>\n",
       "      <td>0</td>\n",
       "      <td>43</td>\n",
       "      <td>0</td>\n",
       "    </tr>\n",
       "    <tr>\n",
       "      <th>31</th>\n",
       "      <td>56981</td>\n",
       "      <td>12219.8</td>\n",
       "      <td>12509.0</td>\n",
       "      <td>0</td>\n",
       "      <td>8</td>\n",
       "      <td>0</td>\n",
       "      <td>0</td>\n",
       "      <td>1</td>\n",
       "      <td>0</td>\n",
       "      <td>0</td>\n",
       "      <td>0</td>\n",
       "      <td>0</td>\n",
       "      <td>43</td>\n",
       "      <td>0</td>\n",
       "    </tr>\n",
       "    <tr>\n",
       "      <th>33</th>\n",
       "      <td>35709</td>\n",
       "      <td>19143.0</td>\n",
       "      <td>21453.0</td>\n",
       "      <td>0</td>\n",
       "      <td>8</td>\n",
       "      <td>0</td>\n",
       "      <td>0</td>\n",
       "      <td>0</td>\n",
       "      <td>0</td>\n",
       "      <td>0</td>\n",
       "      <td>0</td>\n",
       "      <td>1</td>\n",
       "      <td>52</td>\n",
       "      <td>0</td>\n",
       "    </tr>\n",
       "    <tr>\n",
       "      <th>...</th>\n",
       "      <td>...</td>\n",
       "      <td>...</td>\n",
       "      <td>...</td>\n",
       "      <td>...</td>\n",
       "      <td>...</td>\n",
       "      <td>...</td>\n",
       "      <td>...</td>\n",
       "      <td>...</td>\n",
       "      <td>...</td>\n",
       "      <td>...</td>\n",
       "      <td>...</td>\n",
       "      <td>...</td>\n",
       "      <td>...</td>\n",
       "      <td>...</td>\n",
       "    </tr>\n",
       "    <tr>\n",
       "      <th>74</th>\n",
       "      <td>24999</td>\n",
       "      <td>1266.4</td>\n",
       "      <td>12219.8</td>\n",
       "      <td>0</td>\n",
       "      <td>3</td>\n",
       "      <td>0</td>\n",
       "      <td>1</td>\n",
       "      <td>0</td>\n",
       "      <td>0</td>\n",
       "      <td>0</td>\n",
       "      <td>0</td>\n",
       "      <td>0</td>\n",
       "      <td>50</td>\n",
       "      <td>1</td>\n",
       "    </tr>\n",
       "    <tr>\n",
       "      <th>75</th>\n",
       "      <td>23917</td>\n",
       "      <td>1266.4</td>\n",
       "      <td>12219.8</td>\n",
       "      <td>0</td>\n",
       "      <td>1</td>\n",
       "      <td>0</td>\n",
       "      <td>0</td>\n",
       "      <td>1</td>\n",
       "      <td>0</td>\n",
       "      <td>0</td>\n",
       "      <td>0</td>\n",
       "      <td>0</td>\n",
       "      <td>57</td>\n",
       "      <td>1</td>\n",
       "    </tr>\n",
       "    <tr>\n",
       "      <th>76</th>\n",
       "      <td>57291</td>\n",
       "      <td>12509.0</td>\n",
       "      <td>12219.8</td>\n",
       "      <td>0</td>\n",
       "      <td>8</td>\n",
       "      <td>0</td>\n",
       "      <td>1</td>\n",
       "      <td>0</td>\n",
       "      <td>0</td>\n",
       "      <td>0</td>\n",
       "      <td>0</td>\n",
       "      <td>0</td>\n",
       "      <td>50</td>\n",
       "      <td>0</td>\n",
       "    </tr>\n",
       "    <tr>\n",
       "      <th>77</th>\n",
       "      <td>76987</td>\n",
       "      <td>12509.0</td>\n",
       "      <td>12219.8</td>\n",
       "      <td>0</td>\n",
       "      <td>8</td>\n",
       "      <td>0</td>\n",
       "      <td>0</td>\n",
       "      <td>0</td>\n",
       "      <td>0</td>\n",
       "      <td>1</td>\n",
       "      <td>0</td>\n",
       "      <td>0</td>\n",
       "      <td>43</td>\n",
       "      <td>0</td>\n",
       "    </tr>\n",
       "    <tr>\n",
       "      <th>78</th>\n",
       "      <td>79764</td>\n",
       "      <td>12509.0</td>\n",
       "      <td>12219.8</td>\n",
       "      <td>0</td>\n",
       "      <td>8</td>\n",
       "      <td>0</td>\n",
       "      <td>0</td>\n",
       "      <td>1</td>\n",
       "      <td>0</td>\n",
       "      <td>0</td>\n",
       "      <td>0</td>\n",
       "      <td>0</td>\n",
       "      <td>42</td>\n",
       "      <td>0</td>\n",
       "    </tr>\n",
       "    <tr>\n",
       "      <th>79</th>\n",
       "      <td>24321</td>\n",
       "      <td>383.4</td>\n",
       "      <td>12219.8</td>\n",
       "      <td>0</td>\n",
       "      <td>3</td>\n",
       "      <td>0</td>\n",
       "      <td>0</td>\n",
       "      <td>0</td>\n",
       "      <td>1</td>\n",
       "      <td>0</td>\n",
       "      <td>0</td>\n",
       "      <td>0</td>\n",
       "      <td>59</td>\n",
       "      <td>2</td>\n",
       "    </tr>\n",
       "    <tr>\n",
       "      <th>80</th>\n",
       "      <td>10830</td>\n",
       "      <td>206.6</td>\n",
       "      <td>12219.8</td>\n",
       "      <td>0</td>\n",
       "      <td>1</td>\n",
       "      <td>1</td>\n",
       "      <td>0</td>\n",
       "      <td>0</td>\n",
       "      <td>0</td>\n",
       "      <td>0</td>\n",
       "      <td>0</td>\n",
       "      <td>0</td>\n",
       "      <td>48</td>\n",
       "      <td>0</td>\n",
       "    </tr>\n",
       "    <tr>\n",
       "      <th>81</th>\n",
       "      <td>24983</td>\n",
       "      <td>484.4</td>\n",
       "      <td>12219.8</td>\n",
       "      <td>0</td>\n",
       "      <td>1</td>\n",
       "      <td>0</td>\n",
       "      <td>1</td>\n",
       "      <td>0</td>\n",
       "      <td>0</td>\n",
       "      <td>0</td>\n",
       "      <td>0</td>\n",
       "      <td>0</td>\n",
       "      <td>31</td>\n",
       "      <td>2</td>\n",
       "    </tr>\n",
       "    <tr>\n",
       "      <th>82</th>\n",
       "      <td>23704</td>\n",
       "      <td>484.4</td>\n",
       "      <td>12219.8</td>\n",
       "      <td>0</td>\n",
       "      <td>1</td>\n",
       "      <td>0</td>\n",
       "      <td>0</td>\n",
       "      <td>0</td>\n",
       "      <td>1</td>\n",
       "      <td>0</td>\n",
       "      <td>0</td>\n",
       "      <td>0</td>\n",
       "      <td>67</td>\n",
       "      <td>2</td>\n",
       "    </tr>\n",
       "    <tr>\n",
       "      <th>83</th>\n",
       "      <td>18956</td>\n",
       "      <td>1546.6</td>\n",
       "      <td>12219.8</td>\n",
       "      <td>0</td>\n",
       "      <td>1</td>\n",
       "      <td>1</td>\n",
       "      <td>0</td>\n",
       "      <td>0</td>\n",
       "      <td>0</td>\n",
       "      <td>0</td>\n",
       "      <td>0</td>\n",
       "      <td>0</td>\n",
       "      <td>57</td>\n",
       "      <td>1</td>\n",
       "    </tr>\n",
       "    <tr>\n",
       "      <th>84</th>\n",
       "      <td>70241</td>\n",
       "      <td>127.2</td>\n",
       "      <td>12219.8</td>\n",
       "      <td>0</td>\n",
       "      <td>4</td>\n",
       "      <td>0</td>\n",
       "      <td>0</td>\n",
       "      <td>1</td>\n",
       "      <td>0</td>\n",
       "      <td>0</td>\n",
       "      <td>0</td>\n",
       "      <td>0</td>\n",
       "      <td>35</td>\n",
       "      <td>0</td>\n",
       "    </tr>\n",
       "    <tr>\n",
       "      <th>85</th>\n",
       "      <td>22549</td>\n",
       "      <td>291.8</td>\n",
       "      <td>12219.8</td>\n",
       "      <td>0</td>\n",
       "      <td>3</td>\n",
       "      <td>0</td>\n",
       "      <td>1</td>\n",
       "      <td>0</td>\n",
       "      <td>0</td>\n",
       "      <td>0</td>\n",
       "      <td>0</td>\n",
       "      <td>0</td>\n",
       "      <td>62</td>\n",
       "      <td>0</td>\n",
       "    </tr>\n",
       "    <tr>\n",
       "      <th>86</th>\n",
       "      <td>21531</td>\n",
       "      <td>554.2</td>\n",
       "      <td>12219.8</td>\n",
       "      <td>0</td>\n",
       "      <td>1</td>\n",
       "      <td>0</td>\n",
       "      <td>0</td>\n",
       "      <td>1</td>\n",
       "      <td>0</td>\n",
       "      <td>0</td>\n",
       "      <td>0</td>\n",
       "      <td>0</td>\n",
       "      <td>88</td>\n",
       "      <td>2</td>\n",
       "    </tr>\n",
       "    <tr>\n",
       "      <th>87</th>\n",
       "      <td>57322</td>\n",
       "      <td>11163.4</td>\n",
       "      <td>685.6</td>\n",
       "      <td>0</td>\n",
       "      <td>1</td>\n",
       "      <td>0</td>\n",
       "      <td>0</td>\n",
       "      <td>0</td>\n",
       "      <td>0</td>\n",
       "      <td>1</td>\n",
       "      <td>0</td>\n",
       "      <td>0</td>\n",
       "      <td>0</td>\n",
       "      <td>2</td>\n",
       "    </tr>\n",
       "    <tr>\n",
       "      <th>88</th>\n",
       "      <td>56554</td>\n",
       "      <td>11163.4</td>\n",
       "      <td>685.6</td>\n",
       "      <td>0</td>\n",
       "      <td>1</td>\n",
       "      <td>0</td>\n",
       "      <td>0</td>\n",
       "      <td>1</td>\n",
       "      <td>0</td>\n",
       "      <td>0</td>\n",
       "      <td>0</td>\n",
       "      <td>0</td>\n",
       "      <td>0</td>\n",
       "      <td>0</td>\n",
       "    </tr>\n",
       "    <tr>\n",
       "      <th>89</th>\n",
       "      <td>60646</td>\n",
       "      <td>11163.4</td>\n",
       "      <td>484.4</td>\n",
       "      <td>0</td>\n",
       "      <td>1</td>\n",
       "      <td>0</td>\n",
       "      <td>0</td>\n",
       "      <td>0</td>\n",
       "      <td>0</td>\n",
       "      <td>1</td>\n",
       "      <td>0</td>\n",
       "      <td>0</td>\n",
       "      <td>0</td>\n",
       "      <td>1</td>\n",
       "    </tr>\n",
       "    <tr>\n",
       "      <th>90</th>\n",
       "      <td>59792</td>\n",
       "      <td>11163.4</td>\n",
       "      <td>484.4</td>\n",
       "      <td>0</td>\n",
       "      <td>8</td>\n",
       "      <td>0</td>\n",
       "      <td>0</td>\n",
       "      <td>0</td>\n",
       "      <td>1</td>\n",
       "      <td>0</td>\n",
       "      <td>0</td>\n",
       "      <td>0</td>\n",
       "      <td>0</td>\n",
       "      <td>2</td>\n",
       "    </tr>\n",
       "    <tr>\n",
       "      <th>91</th>\n",
       "      <td>72360</td>\n",
       "      <td>11163.4</td>\n",
       "      <td>484.4</td>\n",
       "      <td>0</td>\n",
       "      <td>8</td>\n",
       "      <td>1</td>\n",
       "      <td>0</td>\n",
       "      <td>0</td>\n",
       "      <td>0</td>\n",
       "      <td>0</td>\n",
       "      <td>0</td>\n",
       "      <td>0</td>\n",
       "      <td>0</td>\n",
       "      <td>0</td>\n",
       "    </tr>\n",
       "    <tr>\n",
       "      <th>92</th>\n",
       "      <td>67708</td>\n",
       "      <td>11163.4</td>\n",
       "      <td>484.4</td>\n",
       "      <td>0</td>\n",
       "      <td>8</td>\n",
       "      <td>0</td>\n",
       "      <td>0</td>\n",
       "      <td>0</td>\n",
       "      <td>0</td>\n",
       "      <td>1</td>\n",
       "      <td>0</td>\n",
       "      <td>0</td>\n",
       "      <td>0</td>\n",
       "      <td>0</td>\n",
       "    </tr>\n",
       "    <tr>\n",
       "      <th>93</th>\n",
       "      <td>55980</td>\n",
       "      <td>12219.8</td>\n",
       "      <td>484.4</td>\n",
       "      <td>0</td>\n",
       "      <td>1</td>\n",
       "      <td>1</td>\n",
       "      <td>0</td>\n",
       "      <td>0</td>\n",
       "      <td>0</td>\n",
       "      <td>0</td>\n",
       "      <td>0</td>\n",
       "      <td>0</td>\n",
       "      <td>0</td>\n",
       "      <td>1</td>\n",
       "    </tr>\n",
       "    <tr>\n",
       "      <th>94</th>\n",
       "      <td>56829</td>\n",
       "      <td>12219.8</td>\n",
       "      <td>484.4</td>\n",
       "      <td>0</td>\n",
       "      <td>1</td>\n",
       "      <td>0</td>\n",
       "      <td>0</td>\n",
       "      <td>1</td>\n",
       "      <td>0</td>\n",
       "      <td>0</td>\n",
       "      <td>0</td>\n",
       "      <td>0</td>\n",
       "      <td>0</td>\n",
       "      <td>0</td>\n",
       "    </tr>\n",
       "    <tr>\n",
       "      <th>95</th>\n",
       "      <td>60920</td>\n",
       "      <td>12219.8</td>\n",
       "      <td>484.4</td>\n",
       "      <td>0</td>\n",
       "      <td>1</td>\n",
       "      <td>0</td>\n",
       "      <td>1</td>\n",
       "      <td>0</td>\n",
       "      <td>0</td>\n",
       "      <td>0</td>\n",
       "      <td>0</td>\n",
       "      <td>0</td>\n",
       "      <td>0</td>\n",
       "      <td>1</td>\n",
       "    </tr>\n",
       "    <tr>\n",
       "      <th>96</th>\n",
       "      <td>45348</td>\n",
       "      <td>205.0</td>\n",
       "      <td>908.0</td>\n",
       "      <td>0</td>\n",
       "      <td>1</td>\n",
       "      <td>0</td>\n",
       "      <td>0</td>\n",
       "      <td>0</td>\n",
       "      <td>0</td>\n",
       "      <td>0</td>\n",
       "      <td>1</td>\n",
       "      <td>0</td>\n",
       "      <td>0</td>\n",
       "      <td>1</td>\n",
       "    </tr>\n",
       "    <tr>\n",
       "      <th>97</th>\n",
       "      <td>45496</td>\n",
       "      <td>205.0</td>\n",
       "      <td>908.0</td>\n",
       "      <td>0</td>\n",
       "      <td>1</td>\n",
       "      <td>0</td>\n",
       "      <td>0</td>\n",
       "      <td>0</td>\n",
       "      <td>0</td>\n",
       "      <td>0</td>\n",
       "      <td>1</td>\n",
       "      <td>0</td>\n",
       "      <td>0</td>\n",
       "      <td>1</td>\n",
       "    </tr>\n",
       "    <tr>\n",
       "      <th>98</th>\n",
       "      <td>24933</td>\n",
       "      <td>213.6</td>\n",
       "      <td>484.4</td>\n",
       "      <td>0</td>\n",
       "      <td>3</td>\n",
       "      <td>0</td>\n",
       "      <td>0</td>\n",
       "      <td>1</td>\n",
       "      <td>0</td>\n",
       "      <td>0</td>\n",
       "      <td>0</td>\n",
       "      <td>0</td>\n",
       "      <td>0</td>\n",
       "      <td>0</td>\n",
       "    </tr>\n",
       "    <tr>\n",
       "      <th>99</th>\n",
       "      <td>63879</td>\n",
       "      <td>11163.4</td>\n",
       "      <td>296.4</td>\n",
       "      <td>0</td>\n",
       "      <td>8</td>\n",
       "      <td>0</td>\n",
       "      <td>0</td>\n",
       "      <td>0</td>\n",
       "      <td>0</td>\n",
       "      <td>1</td>\n",
       "      <td>0</td>\n",
       "      <td>0</td>\n",
       "      <td>0</td>\n",
       "      <td>1</td>\n",
       "    </tr>\n",
       "    <tr>\n",
       "      <th>100</th>\n",
       "      <td>62073</td>\n",
       "      <td>11163.4</td>\n",
       "      <td>296.4</td>\n",
       "      <td>0</td>\n",
       "      <td>8</td>\n",
       "      <td>0</td>\n",
       "      <td>1</td>\n",
       "      <td>0</td>\n",
       "      <td>0</td>\n",
       "      <td>0</td>\n",
       "      <td>0</td>\n",
       "      <td>0</td>\n",
       "      <td>0</td>\n",
       "      <td>1</td>\n",
       "    </tr>\n",
       "    <tr>\n",
       "      <th>101</th>\n",
       "      <td>32899</td>\n",
       "      <td>59.2</td>\n",
       "      <td>296.4</td>\n",
       "      <td>0</td>\n",
       "      <td>2</td>\n",
       "      <td>0</td>\n",
       "      <td>0</td>\n",
       "      <td>1</td>\n",
       "      <td>0</td>\n",
       "      <td>0</td>\n",
       "      <td>0</td>\n",
       "      <td>0</td>\n",
       "      <td>0</td>\n",
       "      <td>0</td>\n",
       "    </tr>\n",
       "    <tr>\n",
       "      <th>102</th>\n",
       "      <td>46457</td>\n",
       "      <td>22046.0</td>\n",
       "      <td>542.0</td>\n",
       "      <td>0</td>\n",
       "      <td>2</td>\n",
       "      <td>0</td>\n",
       "      <td>0</td>\n",
       "      <td>0</td>\n",
       "      <td>0</td>\n",
       "      <td>0</td>\n",
       "      <td>0</td>\n",
       "      <td>1</td>\n",
       "      <td>0</td>\n",
       "      <td>1</td>\n",
       "    </tr>\n",
       "    <tr>\n",
       "      <th>103</th>\n",
       "      <td>27782</td>\n",
       "      <td>11163.4</td>\n",
       "      <td>12620.8</td>\n",
       "      <td>0</td>\n",
       "      <td>1</td>\n",
       "      <td>1</td>\n",
       "      <td>0</td>\n",
       "      <td>0</td>\n",
       "      <td>0</td>\n",
       "      <td>0</td>\n",
       "      <td>0</td>\n",
       "      <td>0</td>\n",
       "      <td>48</td>\n",
       "      <td>0</td>\n",
       "    </tr>\n",
       "  </tbody>\n",
       "</table>\n",
       "<p>100 rows × 14 columns</p>\n",
       "</div>"
      ],
      "text/plain": [
       "     seconds_since_midnight  drukte_from  drukte_to  name_enc  class_enc  \\\n",
       "0                     34379      22046.0      536.0         0          8   \n",
       "1                     55488      11163.4      391.4         0          1   \n",
       "2                     48917      11163.4      391.4         0          8   \n",
       "3                     78560      22046.0    12782.0         0          8   \n",
       "4                     48985      21184.0    11409.0         0          1   \n",
       "5                     70303      11163.4     3619.0         0          3   \n",
       "6                     36627      11163.4     3619.0         0          1   \n",
       "7                     70687      11163.4     3619.0         0          1   \n",
       "8                     49638      12509.0     3619.0         0          1   \n",
       "9                     68145       1466.0     3619.0         0          8   \n",
       "10                    82587        148.0     3619.0         0          1   \n",
       "11                    30527      11163.4    12509.0         0          1   \n",
       "12                    26121      11163.4    12509.0         0          8   \n",
       "13                    22662      11163.4    12509.0         0          3   \n",
       "14                    56122      21184.0    19347.0         0          8   \n",
       "15                    21353      11163.4    12509.0         0          8   \n",
       "16                    51729      11163.4    12509.0         0          8   \n",
       "17                    24123      11163.4    12509.0         0          1   \n",
       "18                    14300      11163.4    12509.0         0          1   \n",
       "19                    25041      11163.4    12509.0         0          8   \n",
       "20                    71981       3729.4    12509.0         0          1   \n",
       "21                    80314       5549.0    19347.0         0          1   \n",
       "22                    63775        529.6    12509.0         0          1   \n",
       "24                    15833        406.6    12509.0         0          1   \n",
       "25                    17440        651.0    12509.0         0          1   \n",
       "26                    25398        651.0    12509.0         0          4   \n",
       "28                    24697        651.0    12509.0         0          1   \n",
       "29                    56960      12219.8    12509.0         0          8   \n",
       "31                    56981      12219.8    12509.0         0          8   \n",
       "33                    35709      19143.0    21453.0         0          8   \n",
       "..                      ...          ...        ...       ...        ...   \n",
       "74                    24999       1266.4    12219.8         0          3   \n",
       "75                    23917       1266.4    12219.8         0          1   \n",
       "76                    57291      12509.0    12219.8         0          8   \n",
       "77                    76987      12509.0    12219.8         0          8   \n",
       "78                    79764      12509.0    12219.8         0          8   \n",
       "79                    24321        383.4    12219.8         0          3   \n",
       "80                    10830        206.6    12219.8         0          1   \n",
       "81                    24983        484.4    12219.8         0          1   \n",
       "82                    23704        484.4    12219.8         0          1   \n",
       "83                    18956       1546.6    12219.8         0          1   \n",
       "84                    70241        127.2    12219.8         0          4   \n",
       "85                    22549        291.8    12219.8         0          3   \n",
       "86                    21531        554.2    12219.8         0          1   \n",
       "87                    57322      11163.4      685.6         0          1   \n",
       "88                    56554      11163.4      685.6         0          1   \n",
       "89                    60646      11163.4      484.4         0          1   \n",
       "90                    59792      11163.4      484.4         0          8   \n",
       "91                    72360      11163.4      484.4         0          8   \n",
       "92                    67708      11163.4      484.4         0          8   \n",
       "93                    55980      12219.8      484.4         0          1   \n",
       "94                    56829      12219.8      484.4         0          1   \n",
       "95                    60920      12219.8      484.4         0          1   \n",
       "96                    45348        205.0      908.0         0          1   \n",
       "97                    45496        205.0      908.0         0          1   \n",
       "98                    24933        213.6      484.4         0          3   \n",
       "99                    63879      11163.4      296.4         0          8   \n",
       "100                   62073      11163.4      296.4         0          8   \n",
       "101                   32899         59.2      296.4         0          2   \n",
       "102                   46457      22046.0      542.0         0          2   \n",
       "103                   27782      11163.4    12620.8         0          1   \n",
       "\n",
       "     day__0  day__1  day__2  day__3  day__4  day__5  day__6  trend  occupancy  \n",
       "0         0       0       0       0       0       0       1      0          1  \n",
       "1         0       0       1       0       0       0       0      0          1  \n",
       "2         1       0       0       0       0       0       0      0          0  \n",
       "3         0       0       0       0       0       0       1     28          0  \n",
       "4         0       0       0       0       0       1       0     27          2  \n",
       "5         0       0       1       0       0       0       0     28          0  \n",
       "6         0       0       1       0       0       0       0     14          0  \n",
       "7         0       0       1       0       0       0       0     14          0  \n",
       "8         0       1       0       0       0       0       0     14          1  \n",
       "9         0       0       0       0       1       0       0     25          0  \n",
       "10        1       0       0       0       0       0       0     38          0  \n",
       "11        1       0       0       0       0       0       0     36          1  \n",
       "12        0       1       0       0       0       0       0     50          1  \n",
       "13        0       0       0       0       1       0       0     61          1  \n",
       "14        0       0       0       0       0       1       0     50          1  \n",
       "15        0       0       0       1       0       0       0     67          2  \n",
       "16        0       0       0       0       1       0       0     43          1  \n",
       "17        0       0       0       1       0       0       0     65          2  \n",
       "18        1       0       0       0       0       0       0     62          1  \n",
       "19        1       0       0       0       0       0       0     62          1  \n",
       "20        1       0       0       0       0       0       0     48          1  \n",
       "21        0       0       0       0       0       1       0     36          1  \n",
       "22        0       0       1       0       0       0       0     43          0  \n",
       "24        1       0       0       0       0       0       0     36          1  \n",
       "25        1       0       0       0       0       0       0     36          1  \n",
       "26        0       0       1       0       0       0       0     43          0  \n",
       "28        0       0       0       1       0       0       0     67          2  \n",
       "29        0       0       1       0       0       0       0     43          0  \n",
       "31        0       0       1       0       0       0       0     43          0  \n",
       "33        0       0       0       0       0       0       1     52          0  \n",
       "..      ...     ...     ...     ...     ...     ...     ...    ...        ...  \n",
       "74        0       1       0       0       0       0       0     50          1  \n",
       "75        0       0       1       0       0       0       0     57          1  \n",
       "76        0       1       0       0       0       0       0     50          0  \n",
       "77        0       0       0       0       1       0       0     43          0  \n",
       "78        0       0       1       0       0       0       0     42          0  \n",
       "79        0       0       0       1       0       0       0     59          2  \n",
       "80        1       0       0       0       0       0       0     48          0  \n",
       "81        0       1       0       0       0       0       0     31          2  \n",
       "82        0       0       0       1       0       0       0     67          2  \n",
       "83        1       0       0       0       0       0       0     57          1  \n",
       "84        0       0       1       0       0       0       0     35          0  \n",
       "85        0       1       0       0       0       0       0     62          0  \n",
       "86        0       0       1       0       0       0       0     88          2  \n",
       "87        0       0       0       0       1       0       0      0          2  \n",
       "88        0       0       1       0       0       0       0      0          0  \n",
       "89        0       0       0       0       1       0       0      0          1  \n",
       "90        0       0       0       1       0       0       0      0          2  \n",
       "91        1       0       0       0       0       0       0      0          0  \n",
       "92        0       0       0       0       1       0       0      0          0  \n",
       "93        1       0       0       0       0       0       0      0          1  \n",
       "94        0       0       1       0       0       0       0      0          0  \n",
       "95        0       1       0       0       0       0       0      0          1  \n",
       "96        0       0       0       0       0       1       0      0          1  \n",
       "97        0       0       0       0       0       1       0      0          1  \n",
       "98        0       0       1       0       0       0       0      0          0  \n",
       "99        0       0       0       0       1       0       0      0          1  \n",
       "100       0       1       0       0       0       0       0      0          1  \n",
       "101       0       0       1       0       0       0       0      0          0  \n",
       "102       0       0       0       0       0       0       1      0          1  \n",
       "103       1       0       0       0       0       0       0     48          0  \n",
       "\n",
       "[100 rows x 14 columns]"
      ]
     },
     "execution_count": 41,
     "metadata": {},
     "output_type": "execute_result"
    }
   ],
   "source": [
    "out_test_holidays_druktes[['seconds_since_midnight','drukte_from','drukte_to','name_enc','class_enc','day__0','day__1','day__2','day__3','day__4','day__5','day__6','trend','occupancy']][0:100]"
   ]
  },
  {
   "cell_type": "code",
   "execution_count": 42,
   "metadata": {
    "collapsed": false
   },
   "outputs": [],
   "source": [
    "out_test_holidays_druktes[[\"id\",\"occupancy\"]].to_csv('predictions.csv',index=False)"
   ]
  },
  {
   "cell_type": "markdown",
   "metadata": {},
   "source": [
    "## 4. 'Advanced' predictive modeling: model selection & hyper-parameter tuning\n",
    "\n",
    "### Model evaluation and hyper-parameter tuning\n",
    "\n",
    "In order to evaluate your model, K-fold cross-validation (`https://en.wikipedia.org/wiki/Cross-validation_(statistics)` ) is often applied. Here, the data is divided in K chunks, K-1 chunks are used for training while 1 chunk is used for testing. Different metrics exist, such as accuracy, AUC, F1 score, and more. For this lab, we will use accuracy.\n",
    "\n",
    "Some machine learning techniques, supported by sklearn:\n",
    "\n",
    "* SVMs\n",
    "* Decision Trees\n",
    "* Decision Tree Ensemble: AdaBoost, Random Forest, Gradient Boosting\n",
    "* Multi-Level Perceptrons/Neural Networks\n",
    "* Naive Bayes\n",
    "* K-Nearest Neighbor\n",
    "* ...\n",
    "\n",
    "\n",
    "To tune the different hyper-parameters of a machine learning model, again different techniques exist:\n",
    "* [Grid search](http://scikit-learn.org/stable/auto_examples/model_selection/grid_search_digits.html): exhaustively try all possible parameter combinations (**Code to tune the different parameters of our LogReg model has been given**)\n",
    "* [Random search](http://scikit-learn.org/stable/auto_examples/model_selection/randomized_search.html#sphx-glr-auto-examples-model-selection-randomized-search-py): try a number of random combinations, it has been [shown](http://www.jmlr.org/papers/volume13/bergstra12a/bergstra12a.pdf) that this is quite equivalent to grid search\n",
    "\n",
    "** 4.1: ** *Choose one or more machine learning techniques, different from Logistic Regression and apply them to our data, with tuned hyper-parameters! You will see that switching techniques in sklearn is really simple! Which model performs best on this data? *"
   ]
  },
  {
   "cell_type": "code",
   "execution_count": null,
   "metadata": {
    "collapsed": false
   },
   "outputs": [],
   "source": [
    "skf = StratifiedKFold(n_splits=5, random_state=1337)\n",
    "X = training[['seconds_since_midnight', 'month']]\n",
    "y = training['occupancy']\n",
    "cms = []\n",
    "accs = []\n",
    "parameters = {#'penalty': ['l1', 'l2'],  # No penalty tuning, cause 'l1' is only supported by liblinear\n",
    "              # It can be interesting to manually take a look at 'l1' with 'liblinear', since LASSO\n",
    "              # provides sparse solutions (boils down to the fact that LASSO does some feature selection for you)\n",
    "              'solver': ['newton-cg', 'lbfgs', 'liblinear', 'sag'],\n",
    "              'tol': [1e-4, 1e-6, 1e-8], \n",
    "              'C': [1e-2, 1e-1, 1.0, 1e1],\n",
    "              'max_iter': [1e2, 1e3]\n",
    "             }\n",
    "for train_index, test_index in skf.split(X, y):\n",
    "    X_train, X_test = X.iloc[train_index, :], X.iloc[test_index, :]\n",
    "    y_train, y_test = y[train_index], y[test_index]\n",
    "    \n",
    "    tuned_log_reg = GridSearchCV(LogisticRegression(penalty='l2'), parameters, cv=3,\n",
    "                       scoring='accuracy')\n",
    "    tuned_log_reg.fit(X_train, y_train)\n",
    "    print(tuned_log_reg.best_params_)\n",
    "    \n",
    "    predictions = tuned_log_reg.predict(X_test)\n",
    "    cm = confusion_matrix(y_test, predictions)\n",
    "    cms.append(cm)\n",
    "    accs.append(accuracy_score(y_test, predictions))\n",
    "    print(classification_report(y_test, predictions))\n",
    "    \n",
    "print('Confusion matrix:\\n', np.mean(cms, axis=0))\n",
    "print('Avg accuracy', np.mean(accs), '+-', np.std(accs))\n",
    "print('Predict all lows', float(len(y[y == 0]))/float(len(y)))"
   ]
  },
  {
   "cell_type": "markdown",
   "metadata": {},
   "source": [
    "## 5. Data augmentation with external data sources\n",
    "\n",
    "There is a unlimited amount of factors that influence the occupancy of a train! Definitely more than the limited amount of data given in the feedback logs. Therefore, we will try to create new features for our dataset using external data sources. Examples of data sources include:\n",
    "\n",
    "* Weather APIs\n",
    "* A holiday calendar\n",
    "* Event calendars\n",
    "* Connection and delay information of the SpitsGidsAPI\n",
    "* Data from the NMBS/SNCB\n",
    "* Twitter and other social media\n",
    "* many, many more\n",
    "\n",
    "In order to save time, a few 'prepared' files have already been given to you. Of course, you are free to scrape/generate your own data as well:\n",
    "\n",
    "* Hourly weather data for all stations in Belgium, from August till April `weather_data.zip`\n",
    "* A file which contains the vehicle identifiers and the stations where this vehicle stops  `line_info.csv`\n",
    "* Based on this line_info, you can construct a graph of the rail net in Belgium and apply some fancy graph features (pagerank, edge betweenness, ...) `iGraph experiments.ipynb`\n",
    "* A file containing the coordinates of a station, and the [number of visitors during week/weekend for 2015](http://www.belgianrail.be/nl/~/media/8F764D77F60F48B188A8742652C6E48F.ashx)  `station_druktes.csv`\n",
    "* A file with some of the holidays (this can definitely be extended) `holidays.json`\n",
    "* For event data, there is the [Eventful API](api.eventful.com)\n",
    "\n",
    "** 5.1: ** *Pick one (or more) external data source(s) and link your current data frame to that data source (requires some creativity in most cases). Extract features from your new, linked data source and re-train your model. How much gain did you achieve?*"
   ]
  },
  {
   "cell_type": "markdown",
   "metadata": {},
   "source": [
    "Als we kijken naar \"training.id.value_counts()\" dan zien we vooral dat het om studenten bestemmingen gaat, misschien komt dat omdat het vooral hen zijn die deze app gebruiken? We moeten dus nadenken wanneer zij de trein nemen, en wat dat kan beinvloeden. Misschien het aantal studenten per station incorporeren?"
   ]
  },
  {
   "cell_type": "code",
   "execution_count": 360,
   "metadata": {
    "collapsed": false
   },
   "outputs": [],
   "source": [
    "holiday_pops = pd.read_json('data/holidays.json')\n",
    "holidays = pd.read_json( (holiday_pops['holidays']).to_json(), orient='index')"
   ]
  },
  {
   "cell_type": "code",
   "execution_count": 361,
   "metadata": {
    "collapsed": false
   },
   "outputs": [
    {
     "data": {
      "text/html": [
       "<div>\n",
       "<table border=\"1\" class=\"dataframe\">\n",
       "  <thead>\n",
       "    <tr style=\"text-align: right;\">\n",
       "      <th></th>\n",
       "      <th>date</th>\n",
       "      <th>name</th>\n",
       "      <th>school</th>\n",
       "    </tr>\n",
       "  </thead>\n",
       "  <tbody>\n",
       "    <tr>\n",
       "      <th>0</th>\n",
       "      <td>2016-01-01</td>\n",
       "      <td>Nieuwjaar</td>\n",
       "      <td>0</td>\n",
       "    </tr>\n",
       "  </tbody>\n",
       "</table>\n",
       "</div>"
      ],
      "text/plain": [
       "        date       name  school\n",
       "0 2016-01-01  Nieuwjaar       0"
      ]
     },
     "execution_count": 361,
     "metadata": {},
     "output_type": "execute_result"
    }
   ],
   "source": [
    "holidays['date'] = pd.to_datetime(holidays['date'])\n",
    "holidays.head(1)"
   ]
  },
  {
   "cell_type": "code",
   "execution_count": 362,
   "metadata": {
    "collapsed": false
   },
   "outputs": [],
   "source": [
    "training[\"date\"] = training[\"querytime\"].values.astype('datetime64[D]')\n",
    "out_test[\"date\"] = out_test[\"querytime\"].values.astype('datetime64[D]')"
   ]
  },
  {
   "cell_type": "code",
   "execution_count": 363,
   "metadata": {
    "collapsed": false
   },
   "outputs": [
    {
     "data": {
      "text/html": [
       "<div>\n",
       "<table border=\"1\" class=\"dataframe\">\n",
       "  <thead>\n",
       "    <tr style=\"text-align: right;\">\n",
       "      <th></th>\n",
       "      <th>index</th>\n",
       "      <th>post.connection</th>\n",
       "      <th>post.date</th>\n",
       "      <th>post.from</th>\n",
       "      <th>post.occupancy</th>\n",
       "      <th>post.to</th>\n",
       "      <th>post.vehicle</th>\n",
       "      <th>querytime</th>\n",
       "      <th>querytype</th>\n",
       "      <th>user_agent</th>\n",
       "      <th>post.class</th>\n",
       "      <th>from</th>\n",
       "      <th>destination</th>\n",
       "      <th>weekday</th>\n",
       "      <th>seconds_since_midnight</th>\n",
       "      <th>month</th>\n",
       "      <th>occupancy</th>\n",
       "      <th>date</th>\n",
       "      <th>name</th>\n",
       "      <th>school</th>\n",
       "    </tr>\n",
       "  </thead>\n",
       "  <tbody>\n",
       "    <tr>\n",
       "      <th>0</th>\n",
       "      <td>0</td>\n",
       "      <td>http://irail.be/connections/8813003/20160728/I...</td>\n",
       "      <td>20160728</td>\n",
       "      <td>http://irail.be/stations/NMBS/008813003</td>\n",
       "      <td>medium</td>\n",
       "      <td>http://irail.be/stations/NMBS/008892007</td>\n",
       "      <td>IC1538</td>\n",
       "      <td>2016-07-28 14:44:52</td>\n",
       "      <td>occupancy</td>\n",
       "      <td>Mozilla/5.0 (iPhone; CPU iPhone OS 9_3_2 like ...</td>\n",
       "      <td>IC</td>\n",
       "      <td>89</td>\n",
       "      <td>202</td>\n",
       "      <td>3</td>\n",
       "      <td>53092</td>\n",
       "      <td>7</td>\n",
       "      <td>1</td>\n",
       "      <td>2016-07-28</td>\n",
       "      <td>Summer</td>\n",
       "      <td>1.0</td>\n",
       "    </tr>\n",
       "  </tbody>\n",
       "</table>\n",
       "</div>"
      ],
      "text/plain": [
       "   index                                    post.connection post.date  \\\n",
       "0      0  http://irail.be/connections/8813003/20160728/I...  20160728   \n",
       "\n",
       "                                 post.from post.occupancy  \\\n",
       "0  http://irail.be/stations/NMBS/008813003         medium   \n",
       "\n",
       "                                   post.to post.vehicle           querytime  \\\n",
       "0  http://irail.be/stations/NMBS/008892007       IC1538 2016-07-28 14:44:52   \n",
       "\n",
       "   querytype                                         user_agent post.class  \\\n",
       "0  occupancy  Mozilla/5.0 (iPhone; CPU iPhone OS 9_3_2 like ...         IC   \n",
       "\n",
       "   from  destination  weekday  seconds_since_midnight  month  occupancy  \\\n",
       "0    89          202        3                   53092      7          1   \n",
       "\n",
       "        date    name  school  \n",
       "0 2016-07-28  Summer     1.0  "
      ]
     },
     "execution_count": 363,
     "metadata": {},
     "output_type": "execute_result"
    }
   ],
   "source": [
    "training_holidays = pd.merge(training,holidays, how=\"left\", on='date')\n",
    "training_holidays.school = training_holidays.school.fillna(0)\n",
    "training_holidays.name = training_holidays.name.fillna(\"geen\")\n",
    "training_holidays[0:1]"
   ]
  },
  {
   "cell_type": "code",
   "execution_count": 364,
   "metadata": {
    "collapsed": false
   },
   "outputs": [
    {
     "data": {
      "text/html": [
       "<div>\n",
       "<table border=\"1\" class=\"dataframe\">\n",
       "  <thead>\n",
       "    <tr style=\"text-align: right;\">\n",
       "      <th></th>\n",
       "      <th>id</th>\n",
       "      <th>post.connection</th>\n",
       "      <th>post.date</th>\n",
       "      <th>post.from</th>\n",
       "      <th>post.to</th>\n",
       "      <th>post.vehicle</th>\n",
       "      <th>querytime</th>\n",
       "      <th>querytype</th>\n",
       "      <th>user_agent</th>\n",
       "      <th>post.class</th>\n",
       "      <th>from</th>\n",
       "      <th>destination</th>\n",
       "      <th>weekday</th>\n",
       "      <th>seconds_since_midnight</th>\n",
       "      <th>month</th>\n",
       "      <th>date</th>\n",
       "      <th>name</th>\n",
       "      <th>school</th>\n",
       "    </tr>\n",
       "  </thead>\n",
       "  <tbody>\n",
       "    <tr>\n",
       "      <th>0</th>\n",
       "      <td>0</td>\n",
       "      <td>http://irail.be/connections/8892007/20170312/I...</td>\n",
       "      <td>20170312</td>\n",
       "      <td>http://irail.be/stations/NMBS/008892007</td>\n",
       "      <td>http://irail.be/stations/NMBS/008891140</td>\n",
       "      <td>(null)</td>\n",
       "      <td>2017-03-12 09:32:59</td>\n",
       "      <td>occupancy</td>\n",
       "      <td>Railer/1620 CFNetwork/808.3 Darwin/16.3.0</td>\n",
       "      <td>null</td>\n",
       "      <td>202</td>\n",
       "      <td>2</td>\n",
       "      <td>6</td>\n",
       "      <td>34379</td>\n",
       "      <td>3</td>\n",
       "      <td>2017-03-12</td>\n",
       "      <td>geen</td>\n",
       "      <td>0.0</td>\n",
       "    </tr>\n",
       "  </tbody>\n",
       "</table>\n",
       "</div>"
      ],
      "text/plain": [
       "   id                                    post.connection post.date  \\\n",
       "0   0  http://irail.be/connections/8892007/20170312/I...  20170312   \n",
       "\n",
       "                                 post.from  \\\n",
       "0  http://irail.be/stations/NMBS/008892007   \n",
       "\n",
       "                                   post.to post.vehicle           querytime  \\\n",
       "0  http://irail.be/stations/NMBS/008891140       (null) 2017-03-12 09:32:59   \n",
       "\n",
       "   querytype                                 user_agent post.class  from  \\\n",
       "0  occupancy  Railer/1620 CFNetwork/808.3 Darwin/16.3.0       null   202   \n",
       "\n",
       "   destination  weekday  seconds_since_midnight  month       date  name  \\\n",
       "0            2        6                   34379      3 2017-03-12  geen   \n",
       "\n",
       "   school  \n",
       "0     0.0  "
      ]
     },
     "execution_count": 364,
     "metadata": {},
     "output_type": "execute_result"
    }
   ],
   "source": [
    "out_test_holidays = pd.merge(out_test,holidays, how=\"left\", on='date')\n",
    "out_test_holidays.school = out_test_holidays.school.fillna(0)\n",
    "out_test_holidays.name = out_test_holidays.name.fillna(\"geen\")\n",
    "out_test_holidays[0:1]"
   ]
  },
  {
   "cell_type": "code",
   "execution_count": 111,
   "metadata": {
    "collapsed": false
   },
   "outputs": [],
   "source": [
    "from sklearn.preprocessing import LabelEncoder\n",
    "encoder = LabelEncoder()\n",
    "#encode the names from the holidays (Summer,Christmas...)\n",
    "training_holidays[\"name_enc\"] = encoder.fit_transform(training_holidays[\"name\"])\n",
    "out_test_holidays[\"name_enc\"] = encoder.fit_transform(out_test_holidays[\"name\"])\n",
    "#encode the classes (IC,TGV,L...)\n",
    "training_holidays[\"class_enc\"] = encoder.fit_transform(training_holidays[\"post.class\"])\n",
    "out_test_holidays[\"class_enc\"] = encoder.fit_transform(out_test_holidays[\"post.class\"])"
   ]
  },
  {
   "cell_type": "code",
   "execution_count": 366,
   "metadata": {
    "collapsed": true
   },
   "outputs": [],
   "source": [
    "training_holidays=training_holidays.rename(columns = {'too':'destination'})\n",
    "out_test_holidays=out_test_holidays.rename(columns = {'too':'destination'})"
   ]
  },
  {
   "cell_type": "code",
   "execution_count": 367,
   "metadata": {
    "collapsed": true
   },
   "outputs": [],
   "source": [
    "stations_df = pd.merge(stations_df,druktes_df.drop(['Unnamed: 0','station'],1), left_on = 'name', right_on = 'station_link')"
   ]
  },
  {
   "cell_type": "markdown",
   "metadata": {},
   "source": [
    "Transform all null classes to one null class, maybe try to predict the class? Based on to and from and time"
   ]
  },
  {
   "cell_type": "code",
   "execution_count": 566,
   "metadata": {
    "collapsed": false
   },
   "outputs": [],
   "source": [
    "def transform_druktes(row):\n",
    "    start = row['from']\n",
    "    destination = row['destination']\n",
    "    day = row['weekday']\n",
    "    row['from_lat']=stations_df[stations_df[\"from\"] == start][\"latitude\"].values[0]\n",
    "    row['from_lng']=stations_df[stations_df[\"destination\"] == destination][\"longitude\"].values[0]\n",
    "    row['des_lat']=stations_df[stations_df[\"from\"] == start][\"latitude\"].values[0]\n",
    "    row['des_lng']=stations_df[stations_df[\"destination\"] == destination][\"longitude\"].values[0]\n",
    "    row['zoekterm']=stations_df[stations_df[\"destination\"] == destination][\"zoekterm\"].values[0]\n",
    "    if day == 5:\n",
    "        row['drukte_from']=stations_df[stations_df[\"from\"] == start][\"zaterdag\"].values[0]\n",
    "        row['drukte_to']=stations_df[stations_df[\"destination\"] == destination][\"zaterdag\"].values[0]\n",
    "    elif day == 6:\n",
    "        row['drukte_from']=stations_df[stations_df[\"from\"] == start][\"zondag\"].values[0]\n",
    "        row['drukte_to']=stations_df[stations_df[\"destination\"] == destination][\"zondag\"].values[0]\n",
    "    elif day == 4:\n",
    "        row['drukte_from']=stations_df[stations_df[\"from\"] == start][\"zondag\"].values[0]/5.0*1.11\n",
    "        row['drukte_to']=stations_df[stations_df[\"destination\"] == destination][\"zondag\"].values[0]/5.0*1.11\n",
    "    elif day == 3:\n",
    "        row['drukte_from']=stations_df[stations_df[\"from\"] == start][\"zondag\"].values[0]/5.0*1.21\n",
    "        row['drukte_to']=stations_df[stations_df[\"destination\"] == destination][\"zondag\"].values[0]/5.0*1.21\n",
    "    elif day == 2:\n",
    "        row['drukte_from']=stations_df[stations_df[\"from\"] == start][\"zondag\"].values[0]/5.0*0.736\n",
    "        row['drukte_to']=stations_df[stations_df[\"destination\"] == destination][\"zondag\"].values[0]/5.0*0.736\n",
    "    elif day == 1:\n",
    "        row['drukte_from']=stations_df[stations_df[\"from\"] == start][\"zondag\"].values[0]/5.0*0.92\n",
    "        row['drukte_to']=stations_df[stations_df[\"destination\"] == destination][\"zondag\"].values[0]/5.*0.92\n",
    "    else:\n",
    "        row['drukte_from']=stations_df[stations_df[\"from\"] == start][\"week\"].values[0]/5.0*1.016\n",
    "        row['drukte_to']=stations_df[stations_df[\"destination\"] == destination][\"week\"].values[0]/5.0*1.016\n",
    "    \n",
    "    return row"
   ]
  },
  {
   "cell_type": "code",
   "execution_count": 567,
   "metadata": {
    "collapsed": false
   },
   "outputs": [],
   "source": [
    "training_holidays_druktes = training_holidays_druktes.apply(transform_druktes, axis=1)\n",
    "out_test_holidays_druktes = training_holidays_druktes.apply(transform_druktes, axis=1)"
   ]
  },
  {
   "cell_type": "code",
   "execution_count": 372,
   "metadata": {
    "collapsed": true
   },
   "outputs": [],
   "source": [
    "training_holidays_druktes = pd.concat([training_holidays_druktes,\n",
    "           pd.get_dummies(training_holidays_druktes['weekday'], prefix=\"day_\"), \n",
    "           ],1)\n",
    "out_test_holidays_druktes = pd.concat([out_test_holidays_druktes,\n",
    "           pd.get_dummies(out_test_holidays_druktes['weekday'], prefix=\"day_\"), \n",
    "           ],1)"
   ]
  },
  {
   "cell_type": "code",
   "execution_count": 37,
   "metadata": {
    "collapsed": false,
    "scrolled": true
   },
   "outputs": [],
   "source": [
    "trends_df = pd.DataFrame()"
   ]
  },
  {
   "cell_type": "code",
   "execution_count": 26,
   "metadata": {
    "collapsed": true
   },
   "outputs": [],
   "source": [
    "real_trend_df = pd.DataFrame()"
   ]
  },
  {
   "cell_type": "code",
   "execution_count": 28,
   "metadata": {
    "collapsed": false
   },
   "outputs": [],
   "source": [
    "from pytrends.request import TrendReq\n",
    "import pandas as pd\n",
    "\n",
    "# enter your own credentials\n",
    "google_username = \"davidjohansmolders@gmail.com\"\n",
    "google_password = \"*******\"\n",
    "#path = \"\"\n",
    "\n",
    "# Login to Google. Only need to run this once, the rest of requests will use the same session.\n",
    "pytrend = TrendReq(google_username, google_password, custom_useragent='My Pytrends Script')"
   ]
  },
  {
   "cell_type": "code",
   "execution_count": 35,
   "metadata": {
    "collapsed": false
   },
   "outputs": [],
   "source": [
    "for i in range(0,645):\n",
    "    if i % 4 != 0:\n",
    "        continue\n",
    "    try:\n",
    "        pytrend.build_payload(kw_list=[stations_df[stations_df.destination == i].zoekterm.values[0], stations_df[stations_df.destination == i+1].zoekterm.values[0], stations_df[stations_df.destination == i+2].zoekterm.values[0], stations_df[stations_df.destination == i+3].zoekterm.values[0], \"Brussel trein\"],geo=\"BE\",timeframe='2016-07-27 2017-04-05')\n",
    "        real_trend_df = pd.concat([real_trend_df,pytrend.interest_over_time()], axis=1)\n",
    "    except:\n",
    "        continue"
   ]
  },
  {
   "cell_type": "code",
   "execution_count": 313,
   "metadata": {
    "collapsed": false
   },
   "outputs": [],
   "source": [
    "no_dup_trends = trends_df.T.groupby(level=0).first().T"
   ]
  },
  {
   "cell_type": "code",
   "execution_count": 314,
   "metadata": {
    "collapsed": true
   },
   "outputs": [],
   "source": [
    "training_holidays_druktes = pd.merge(training_holidays_druktes,stations_df[[\"destination\",\"zoekterm\"]], left_on = 'destination', right_on = 'destination')\n",
    "out_test_holidays_druktes = pd.merge(out_test_holidays_druktes,stations_df[[\"destination\",\"zoekterm\"]], left_on = 'destination', right_on = 'destination')"
   ]
  },
  {
   "cell_type": "code",
   "execution_count": 40,
   "metadata": {
    "collapsed": false
   },
   "outputs": [
    {
     "data": {
      "text/plain": [
       "34"
      ]
     },
     "execution_count": 40,
     "metadata": {},
     "output_type": "execute_result"
    }
   ],
   "source": [
    "int(real_trend_df.loc[\"2016-07-28\"][\"Brussel trein\"])"
   ]
  },
  {
   "cell_type": "code",
   "execution_count": 374,
   "metadata": {
    "collapsed": true
   },
   "outputs": [],
   "source": [
    "training_holidays_druktes_copy = training_holidays_druktes\n",
    "out_test_holidays_druktes_copy = out_test_holidays_druktes"
   ]
  },
  {
   "cell_type": "code",
   "execution_count": 764,
   "metadata": {
    "collapsed": true
   },
   "outputs": [],
   "source": [
    "training_holidays_druktes = training_holidays_druktes_copy\n",
    "out_test_holidays_druktes = out_test_holidays_druktes_copy"
   ]
  },
  {
   "cell_type": "code",
   "execution_count": 51,
   "metadata": {
    "collapsed": true
   },
   "outputs": [],
   "source": [
    "def get_trends(row):\n",
    "    zoek = str(row.zoekterm) \n",
    "    datum = str(row[\"date\"])[0:10]\n",
    "    try:\n",
    "        row[\"real_trend\"] = int(real_trend_df.loc[datum][zoek])\n",
    "    except:\n",
    "        row[\"real_trend\"] = 0\n",
    "    return row"
   ]
  },
  {
   "cell_type": "code",
   "execution_count": 52,
   "metadata": {
    "collapsed": false
   },
   "outputs": [],
   "source": [
    "training_holidays_druktes = training_holidays_druktes.apply(get_trends, axis=1)\n",
    "out_test_holidays_druktes = out_test_holidays_druktes.apply(get_trends, axis=1)"
   ]
  },
  {
   "cell_type": "code",
   "execution_count": 766,
   "metadata": {
    "collapsed": false
   },
   "outputs": [],
   "source": [
    "training_holidays_druktes = training_holidays_druktes.drop(['post.date','post.from','post.vehicle','querytype','user_agent','post.to','name','post.class'],1)\n",
    "out_test_holidays_druktes = out_test_holidays_druktes.drop(['post.date','post.from','post.vehicle','querytype','user_agent','post.to','name','post.class'],1)"
   ]
  },
  {
   "cell_type": "code",
   "execution_count": 120,
   "metadata": {
    "collapsed": false
   },
   "outputs": [],
   "source": [
    "training_holidays_druktes[\"hour\"] = training_holidays_druktes[\"querytime\"].values.astype('datetime64[h]').astype('str')\n",
    "out_test_holidays_druktes[\"hour\"] = out_test_holidays_druktes[\"querytime\"].values.astype('datetime64[h]').astype('str')\n",
    "training_holidays_druktes[\"hour_lag\"] = (training_holidays_druktes[\"querytime\"].values.astype('datetime64[h]')-2).astype('str')\n",
    "out_test_holidays_druktes[\"hour_lag\"] = (out_test_holidays_druktes[\"querytime\"].values.astype('datetime64[h]')-2).astype('str')"
   ]
  },
  {
   "cell_type": "code",
   "execution_count": 124,
   "metadata": {
    "collapsed": false
   },
   "outputs": [],
   "source": [
    "training_holidays_druktes[\"timeframe\"] = training_holidays_druktes[\"hour_lag\"]+\" \"+training_holidays_druktes[\"hour\"]\n",
    "out_test_holidays_druktes[\"timeframe\"] = out_test_holidays_druktes[\"hour_lag\"]+\" \"+out_test_holidays_druktes[\"hour\"]"
   ]
  },
  {
   "cell_type": "code",
   "execution_count": 126,
   "metadata": {
    "collapsed": false
   },
   "outputs": [],
   "source": [
    "# enter your own credentials\n",
    "google_username = \"davidjohansmolders@gmail.com\"\n",
    "google_password = \"*******\"\n",
    "#path = \"\"\n",
    "\n",
    "# Login to Google. Only need to run this once, the rest of requests will use the same session.\n",
    "pytrend = TrendReq(google_username, google_password, custom_useragent='My Pytrends Script')\n",
    "\n",
    "def get_hour_trends(row):\n",
    "    zoek = str(row.zoekterm_x) \n",
    "    tijd = str(row[\"timeframe\"])\n",
    "    try:\n",
    "        pytrend.build_payload(kw_list=[zoek],timeframe=tijd)\n",
    "        row[\"hour_trend\"] = int(pytrend.interest_over_time()[zoek].sum())\n",
    "    except:\n",
    "        row[\"hour_trend\"] = 0\n",
    "    return row"
   ]
  },
  {
   "cell_type": "code",
   "execution_count": 130,
   "metadata": {
    "collapsed": true
   },
   "outputs": [],
   "source": [
    "training_holidays_druktes = training_holidays_druktes.apply(get_hour_trends, axis=1)\n",
    "out_test_holidays_druktes = out_test_holidays_druktes.apply(get_hour_trends, axis=1)"
   ]
  },
  {
   "cell_type": "code",
   "execution_count": 6,
   "metadata": {
    "collapsed": false
   },
   "outputs": [],
   "source": [
    "training_holidays_druktes = pd.concat([training_holidays_druktes,\n",
    "           pd.get_dummies(training_holidays_druktes['class_enc'], prefix=\"class_\"), \n",
    "           ],1)\n",
    "out_test_holidays_druktes = pd.concat([out_test_holidays_druktes,\n",
    "           pd.get_dummies(out_test_holidays_druktes['class_enc'], prefix=\"class_\"), \n",
    "           ],1)"
   ]
  },
  {
   "cell_type": "code",
   "execution_count": 11,
   "metadata": {
    "collapsed": true
   },
   "outputs": [],
   "source": [
    "# file names for all csv files containing weather information per month\n",
    "weather_csv = ['weather_data_apr_1', 'weather_data_apr_2', 'weather_data_aug_1', 'weather_data_aug_2', 'weather_data_dec_1', 'weather_data_dec_2', 'weather_data_feb_1', 'weather_data_feb_2', 'weather_data_jan_1', 'weather_data_jan_2', 'weather_data_july_1', 'weather_data_july_2', 'weather_data_mar_1', 'weather_data_mar_2', 'weather_data_nov_1', 'weather_data_nov_2', 'weather_data_oct_1', 'weather_data_oct_2', 'weather_data_sep_1', 'weather_data_sep_2']\n",
    "for i in range(len(weather_csv)):\n",
    "    weather_csv[i] = 'data/weather_data/' + weather_csv[i] + '.csv'"
   ]
  },
  {
   "cell_type": "code",
   "execution_count": 12,
   "metadata": {
    "collapsed": true
   },
   "outputs": [],
   "source": [
    "# create column of station index\n",
    "stations_df['station_index'] = stations_df.index"
   ]
  },
  {
   "cell_type": "code",
   "execution_count": 13,
   "metadata": {
    "collapsed": true
   },
   "outputs": [],
   "source": [
    "# put all weather data in an array\n",
    "weather_months = []\n",
    "for csv in weather_csv:\n",
    "    weather_month = pd.read_csv(csv)\n",
    "    \n",
    "    # convert date_time to a datetime object\n",
    "    weather_month['date_time'] = pd.to_datetime(weather_month['date_time'])\n",
    "    weather_month = weather_month.drop(['Unnamed: 0','lat','lng'], 1)\n",
    "    \n",
    "    weather_months.append(weather_month)\n",
    "    \n",
    "# concatenate all weather data\n",
    "weather = pd.concat(weather_months)\n",
    "\n",
    "# merge weather month with station to convert station name to index (that can be found in holiday_druktes)\n",
    "weather = pd.merge(weather, stations_df[[\"name\", \"station_index\"]], left_on = 'station_name', right_on = 'name')\n",
    "weather = weather.drop(['station_name', 'name'], 1)"
   ]
  },
  {
   "cell_type": "code",
   "execution_count": 14,
   "metadata": {
    "collapsed": true
   },
   "outputs": [],
   "source": [
    "# truncate querytime to the hour in new column\n",
    "training_holidays_druktes['querytime_hour'] = training_holidays_druktes['querytime'].apply(lambda dt: datetime.datetime(dt.year, dt.month, dt.day, dt.hour))"
   ]
  },
  {
   "cell_type": "code",
   "execution_count": 15,
   "metadata": {
    "collapsed": false
   },
   "outputs": [],
   "source": [
    "# join training with weather data\n",
    "training_holidays_druktes_weather = pd.merge(training_holidays_druktes, weather, how='left', left_on = ['destination', 'querytime_hour'], right_on = ['station_index', 'date_time'])"
   ]
  },
  {
   "cell_type": "code",
   "execution_count": 16,
   "metadata": {
    "collapsed": false
   },
   "outputs": [],
   "source": [
    "training_holidays_druktes_weather = training_holidays_druktes_weather.drop(['querytime_hour', 'date_time', 'station_index'], 1)\n",
    "training_holidays_druktes_weather = training_holidays_druktes_weather.drop_duplicates()"
   ]
  },
  {
   "cell_type": "code",
   "execution_count": 17,
   "metadata": {
    "collapsed": false
   },
   "outputs": [],
   "source": [
    "# fill null rows of weather data with there mean\n",
    "training_holidays_druktes_weather['temperature'].fillna(training_holidays_druktes_weather['temperature'].mean(), inplace=True)\n",
    "training_holidays_druktes_weather['humidity'].fillna(training_holidays_druktes_weather['humidity'].mean(), inplace=True)\n",
    "training_holidays_druktes_weather['windspeed'].fillna(training_holidays_druktes_weather['windspeed'].mean(), inplace=True)\n",
    "training_holidays_druktes_weather['visibility'].fillna(training_holidays_druktes_weather['visibility'].mean(), inplace=True)\n",
    "training_holidays_druktes_weather['weather_type'].fillna(training_holidays_druktes_weather['weather_type'].mean(), inplace=True)\n",
    "\n",
    "#cast weather type to int\n",
    "training_holidays_druktes_weather['weather_type'] = training_holidays_druktes_weather['weather_type'].astype(int)"
   ]
  },
  {
   "cell_type": "code",
   "execution_count": 18,
   "metadata": {
    "collapsed": true
   },
   "outputs": [],
   "source": [
    "# Add weather data to test data\n",
    "# truncate querytime to the hour in new column\n",
    "out_test_holidays_druktes['querytime_hour'] = out_test_holidays_druktes['querytime'].apply(lambda dt: datetime.datetime(dt.year, dt.month, dt.day, dt.hour))\n",
    "\n",
    "# join test with weather data\n",
    "out_test_holidays_druktes_weather = pd.merge(out_test_holidays_druktes, weather, how='left', left_on = ['destination', 'querytime_hour'], right_on = ['station_index', 'date_time'])\n",
    "\n",
    "out_test_holidays_druktes_weather = out_test_holidays_druktes_weather.drop(['querytime_hour', 'date_time', 'station_index'], 1)\n",
    "out_test_holidays_druktes_weather = out_test_holidays_druktes_weather.drop_duplicates()\n",
    "\n",
    "# fill null rows of weather data with there mean\n",
    "out_test_holidays_druktes_weather['temperature'].fillna(out_test_holidays_druktes_weather['temperature'].mean(), inplace=True)\n",
    "out_test_holidays_druktes_weather['humidity'].fillna(out_test_holidays_druktes_weather['humidity'].mean(), inplace=True)\n",
    "out_test_holidays_druktes_weather['windspeed'].fillna(out_test_holidays_druktes_weather['windspeed'].mean(), inplace=True)\n",
    "out_test_holidays_druktes_weather['visibility'].fillna(out_test_holidays_druktes_weather['visibility'].mean(), inplace=True)\n",
    "out_test_holidays_druktes_weather['weather_type'].fillna(out_test_holidays_druktes_weather['weather_type'].mean(), inplace=True)\n",
    "\n",
    "#cast weather type to int\n",
    "out_test_holidays_druktes_weather['weather_type'] = out_test_holidays_druktes_weather['weather_type'].astype(int)"
   ]
  },
  {
   "cell_type": "code",
   "execution_count": 19,
   "metadata": {
    "collapsed": true
   },
   "outputs": [],
   "source": [
    "# set out_test_holidays_druktes and training_holidays_druktes equal to weather counterpart such that we don't need to change all variable names above\n",
    "out_test_holidays_druktes = out_test_holidays_druktes_weather\n",
    "training_holidays_druktes = training_holidays_druktes_weather"
   ]
  },
  {
   "cell_type": "markdown",
   "metadata": {},
   "source": [
    "## 6. Generating a Kaggle submission and comparing your methodology to others\n",
    "\n",
    "** 6.1: ** *Train your best performing model on `train.nldjson` and generate predictions for `test.nldjson`. Create a file called `submission.csv` with format listed below and submit it on the [Kaggle competition](https://inclass.kaggle.com/c/train-occupancy-prediction-v2)! What's your position on the leaderboard?*"
   ]
  },
  {
   "cell_type": "code",
   "execution_count": 3,
   "metadata": {
    "collapsed": false
   },
   "outputs": [
    {
     "ename": "NameError",
     "evalue": "name 'pickle' is not defined",
     "output_type": "error",
     "traceback": [
      "\u001b[0;31m---------------------------------------------------------------------------\u001b[0m",
      "\u001b[0;31mNameError\u001b[0m                                 Traceback (most recent call last)",
      "\u001b[0;32m<ipython-input-3-09dfe41df1bf>\u001b[0m in \u001b[0;36m<module>\u001b[0;34m()\u001b[0m\n\u001b[0;32m----> 1\u001b[0;31m \u001b[0mpickle\u001b[0m\u001b[0;34m.\u001b[0m\u001b[0mdump\u001b[0m\u001b[0;34m(\u001b[0m\u001b[0mtraining_holidays_druktes\u001b[0m\u001b[0;34m,\u001b[0m\u001b[0mopen\u001b[0m\u001b[0;34m(\u001b[0m\u001b[0;34m\"temp_data/training_holidays_druktes.pkl\"\u001b[0m\u001b[0;34m,\u001b[0m\u001b[0;34m\"wb\"\u001b[0m\u001b[0;34m)\u001b[0m\u001b[0;34m)\u001b[0m\u001b[0;34m\u001b[0m\u001b[0m\n\u001b[0m\u001b[1;32m      2\u001b[0m \u001b[0mpickle\u001b[0m\u001b[0;34m.\u001b[0m\u001b[0mdump\u001b[0m\u001b[0;34m(\u001b[0m\u001b[0mout_test_holidays_druktes\u001b[0m\u001b[0;34m,\u001b[0m\u001b[0mopen\u001b[0m\u001b[0;34m(\u001b[0m\u001b[0;34m\"temp_data/out_test_holidays_druktes.pkl\"\u001b[0m\u001b[0;34m,\u001b[0m\u001b[0;34m\"wb\"\u001b[0m\u001b[0;34m)\u001b[0m\u001b[0;34m)\u001b[0m\u001b[0;34m\u001b[0m\u001b[0m\n",
      "\u001b[0;31mNameError\u001b[0m: name 'pickle' is not defined"
     ]
    }
   ],
   "source": [
    "pickle.dump(training_holidays_druktes,open(\"temp_data/training_holidays_druktes.pkl\",\"wb\"))\n",
    "pickle.dump(out_test_holidays_druktes,open(\"temp_data/out_test_holidays_druktes.pkl\",\"wb\"))"
   ]
  },
  {
   "cell_type": "code",
   "execution_count": 6,
   "metadata": {
    "collapsed": false
   },
   "outputs": [],
   "source": [
    "training_holidays_druktes = pd.read_pickle(\"temp_data/training_holidays_druktes.pkl\")\n",
    "out_test_holidays_druktes = pd.read_pickle(\"temp_data/out_test_holidays_druktes.pkl\")"
   ]
  },
  {
   "cell_type": "code",
   "execution_count": 7,
   "metadata": {
    "collapsed": false
   },
   "outputs": [
    {
     "data": {
      "text/html": [
       "<div>\n",
       "<table border=\"1\" class=\"dataframe\">\n",
       "  <thead>\n",
       "    <tr style=\"text-align: right;\">\n",
       "      <th></th>\n",
       "      <th>index</th>\n",
       "      <th>post.connection</th>\n",
       "      <th>post.occupancy</th>\n",
       "      <th>querytime</th>\n",
       "      <th>from</th>\n",
       "      <th>destination</th>\n",
       "      <th>weekday</th>\n",
       "      <th>seconds_since_midnight</th>\n",
       "      <th>month</th>\n",
       "      <th>occupancy</th>\n",
       "      <th>...</th>\n",
       "      <th>class__6</th>\n",
       "      <th>class__7</th>\n",
       "      <th>class__8</th>\n",
       "      <th>class__9</th>\n",
       "      <th>class__10</th>\n",
       "      <th>class__11</th>\n",
       "      <th>class__12</th>\n",
       "      <th>class__13</th>\n",
       "      <th>class__14</th>\n",
       "      <th>real_trend</th>\n",
       "    </tr>\n",
       "  </thead>\n",
       "  <tbody>\n",
       "    <tr>\n",
       "      <th>0</th>\n",
       "      <td>0</td>\n",
       "      <td>http://irail.be/connections/8813003/20160728/I...</td>\n",
       "      <td>medium</td>\n",
       "      <td>2016-07-28 14:44:52</td>\n",
       "      <td>89</td>\n",
       "      <td>202</td>\n",
       "      <td>3</td>\n",
       "      <td>53092</td>\n",
       "      <td>7</td>\n",
       "      <td>1</td>\n",
       "      <td>...</td>\n",
       "      <td>0</td>\n",
       "      <td>0</td>\n",
       "      <td>0</td>\n",
       "      <td>0</td>\n",
       "      <td>0</td>\n",
       "      <td>0</td>\n",
       "      <td>0</td>\n",
       "      <td>0</td>\n",
       "      <td>0</td>\n",
       "      <td>34</td>\n",
       "    </tr>\n",
       "    <tr>\n",
       "      <th>1</th>\n",
       "      <td>0</td>\n",
       "      <td>http://irail.be/connections/8813003/20160728/I...</td>\n",
       "      <td>low</td>\n",
       "      <td>2016-07-28 17:12:04</td>\n",
       "      <td>89</td>\n",
       "      <td>202</td>\n",
       "      <td>3</td>\n",
       "      <td>61924</td>\n",
       "      <td>7</td>\n",
       "      <td>0</td>\n",
       "      <td>...</td>\n",
       "      <td>0</td>\n",
       "      <td>0</td>\n",
       "      <td>0</td>\n",
       "      <td>0</td>\n",
       "      <td>0</td>\n",
       "      <td>0</td>\n",
       "      <td>0</td>\n",
       "      <td>0</td>\n",
       "      <td>0</td>\n",
       "      <td>34</td>\n",
       "    </tr>\n",
       "    <tr>\n",
       "      <th>2</th>\n",
       "      <td>0</td>\n",
       "      <td>http://irail.be/connections/8813003/20160728/I...</td>\n",
       "      <td>low</td>\n",
       "      <td>2016-07-28 19:33:21</td>\n",
       "      <td>89</td>\n",
       "      <td>202</td>\n",
       "      <td>3</td>\n",
       "      <td>70401</td>\n",
       "      <td>7</td>\n",
       "      <td>0</td>\n",
       "      <td>...</td>\n",
       "      <td>0</td>\n",
       "      <td>0</td>\n",
       "      <td>0</td>\n",
       "      <td>0</td>\n",
       "      <td>0</td>\n",
       "      <td>0</td>\n",
       "      <td>0</td>\n",
       "      <td>0</td>\n",
       "      <td>0</td>\n",
       "      <td>34</td>\n",
       "    </tr>\n",
       "    <tr>\n",
       "      <th>3</th>\n",
       "      <td>0</td>\n",
       "      <td>http://irail.be/connections/008813003/20160728...</td>\n",
       "      <td>low</td>\n",
       "      <td>2016-07-28 19:58:40</td>\n",
       "      <td>89</td>\n",
       "      <td>202</td>\n",
       "      <td>3</td>\n",
       "      <td>71920</td>\n",
       "      <td>7</td>\n",
       "      <td>0</td>\n",
       "      <td>...</td>\n",
       "      <td>0</td>\n",
       "      <td>0</td>\n",
       "      <td>0</td>\n",
       "      <td>0</td>\n",
       "      <td>0</td>\n",
       "      <td>0</td>\n",
       "      <td>0</td>\n",
       "      <td>0</td>\n",
       "      <td>0</td>\n",
       "      <td>34</td>\n",
       "    </tr>\n",
       "    <tr>\n",
       "      <th>4</th>\n",
       "      <td>0</td>\n",
       "      <td>http://irail.be/connections/8813003/20160728/I...</td>\n",
       "      <td>low</td>\n",
       "      <td>2016-07-28 21:40:30</td>\n",
       "      <td>89</td>\n",
       "      <td>202</td>\n",
       "      <td>3</td>\n",
       "      <td>78030</td>\n",
       "      <td>7</td>\n",
       "      <td>0</td>\n",
       "      <td>...</td>\n",
       "      <td>0</td>\n",
       "      <td>0</td>\n",
       "      <td>0</td>\n",
       "      <td>0</td>\n",
       "      <td>0</td>\n",
       "      <td>0</td>\n",
       "      <td>0</td>\n",
       "      <td>0</td>\n",
       "      <td>0</td>\n",
       "      <td>34</td>\n",
       "    </tr>\n",
       "  </tbody>\n",
       "</table>\n",
       "<p>5 rows × 45 columns</p>\n",
       "</div>"
      ],
      "text/plain": [
       "   index                                    post.connection post.occupancy  \\\n",
       "0      0  http://irail.be/connections/8813003/20160728/I...         medium   \n",
       "1      0  http://irail.be/connections/8813003/20160728/I...            low   \n",
       "2      0  http://irail.be/connections/8813003/20160728/I...            low   \n",
       "3      0  http://irail.be/connections/008813003/20160728...            low   \n",
       "4      0  http://irail.be/connections/8813003/20160728/I...            low   \n",
       "\n",
       "            querytime  from  destination  weekday  seconds_since_midnight  \\\n",
       "0 2016-07-28 14:44:52    89          202        3                   53092   \n",
       "1 2016-07-28 17:12:04    89          202        3                   61924   \n",
       "2 2016-07-28 19:33:21    89          202        3                   70401   \n",
       "3 2016-07-28 19:58:40    89          202        3                   71920   \n",
       "4 2016-07-28 21:40:30    89          202        3                   78030   \n",
       "\n",
       "   month  occupancy     ...     class__6  class__7  class__8  class__9  \\\n",
       "0      7          1     ...            0         0         0         0   \n",
       "1      7          0     ...            0         0         0         0   \n",
       "2      7          0     ...            0         0         0         0   \n",
       "3      7          0     ...            0         0         0         0   \n",
       "4      7          0     ...            0         0         0         0   \n",
       "\n",
       "   class__10  class__11  class__12  class__13 class__14  real_trend  \n",
       "0          0          0          0          0         0          34  \n",
       "1          0          0          0          0         0          34  \n",
       "2          0          0          0          0         0          34  \n",
       "3          0          0          0          0         0          34  \n",
       "4          0          0          0          0         0          34  \n",
       "\n",
       "[5 rows x 45 columns]"
      ]
     },
     "execution_count": 7,
     "metadata": {},
     "output_type": "execute_result"
    }
   ],
   "source": [
    "training_holidays_druktes[0:5]"
   ]
  },
  {
   "cell_type": "markdown",
   "metadata": {},
   "source": [
    "## For the interested\n",
    "\n",
    "\n",
    "** Blog posts **\n",
    "\n",
    "https://medium.com/@nathan.gs/predicting-occupancy-on-the-belgian-railroads-based-on-spitsgids-irail-data-using-azure-ml-95aa89f22620#.j4d3jeb8y\n",
    "\n",
    "https://dataminded.be/blog/predicting-occupancy-nmbs-trains\n",
    "\n",
    "https://medium.com/@gillesvandewiele/predicting-the-occupancy-of-nmbs-trains-using-logs-from-spitsgids-app-v1-0-82b2bcff9bd2#.8pr5m07uq\n",
    "\n",
    "\n",
    "** LocWeb2017 paper **\n",
    "\n",
    "[Gilles Vandewiele, Pieter Colpaert, Olivier Janssens, Joachim Van Herwegen, Ruben Verborgh, Erik Mannens, Femke Ongenae, and Filip De Turck. \"Predicting Train Occupancies based on Query Logs and External Data Sources.\" In Proceedings of the 26th International Conference on World Wide Web Companion, pp. 1469-1474. International World Wide Web Conferences Steering Committee, 2017.](http://dl.acm.org/citation.cfm?id=3051699)\n",
    "\n",
    "\n",
    "** Kaggle **\n",
    "\n",
    "If you are still interested and think you can improve your model even more: feel free to compete in the [public Kaggle competition](https://inclass.kaggle.com/c/train-occupancy-prediction/) (**NOTE:** make sure you use the training and test data from that competition (smaller dataset)) till the end of it! Can you become the new #1? \n",
    "\n",
    "\n",
    "## You can always contact me on gilles.vandewiele (at) ugent (dot) be if you want to discuss your methodology or if you want more details about my methodology! \n",
    "\n"
   ]
  },
  {
   "cell_type": "code",
   "execution_count": null,
   "metadata": {
    "collapsed": true
   },
   "outputs": [],
   "source": []
  }
 ],
 "metadata": {
  "anaconda-cloud": {},
  "kernelspec": {
   "display_name": "Python 3",
   "language": "python",
   "name": "python3"
  },
  "language_info": {
   "codemirror_mode": {
    "name": "ipython",
    "version": 3
   },
   "file_extension": ".py",
   "mimetype": "text/x-python",
   "name": "python",
   "nbconvert_exporter": "python",
   "pygments_lexer": "ipython3",
   "version": "3.6.0"
  }
 },
 "nbformat": 4,
 "nbformat_minor": 2
}
